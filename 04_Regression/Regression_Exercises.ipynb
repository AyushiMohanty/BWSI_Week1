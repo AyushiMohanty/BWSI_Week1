{
 "cells": [
  {
   "cell_type": "markdown",
   "source": "# Regression Exercises",
   "metadata": {
    "colab_type": "text",
    "id": "xTfQvqbXr9G1",
    "cell_id": "00000-54f2d147-8aad-4e33-afcc-9314a0acbc15",
    "deepnote_cell_type": "markdown",
    "deepnote_cell_height": 82
   }
  },
  {
   "cell_type": "markdown",
   "source": "## Linear",
   "metadata": {
    "id": "RAgvxOf_qm9m",
    "colab_type": "text",
    "cell_id": "00001-64ae805a-b4c1-4584-b041-1cd9a74df1c5",
    "deepnote_cell_type": "markdown",
    "deepnote_cell_height": 70
   }
  },
  {
   "cell_type": "code",
   "metadata": {
    "colab_type": "code",
    "id": "VohVqdqmr9G3",
    "colab": {},
    "cell_id": "00002-a7a0de70-619c-4ac5-ab40-d3374b62f6be",
    "deepnote_to_be_reexecuted": false,
    "source_hash": "faaff9cc",
    "execution_start": 1657727532672,
    "execution_millis": 1603,
    "deepnote_cell_type": "code",
    "deepnote_cell_height": 423
   },
   "source": "# Loading data\nimport pandas as pd\nimport numpy as np\nfrom matplotlib import pyplot as plt\n\n# Read data from Github\ndata_url = \"https://raw.githubusercontent.com/BeaverWorksMedlytics2020/Data_Public/master/NotebookExampleData/Week1/ex1data2.txt\"\ndata_array = np.genfromtxt(data_url, delimiter=',')\n\n# The columns in this data set are define as folows:\n\"\"\"\n    0 = floor area\n    1 = number of bedrooms\n    2 = sale price\n\"\"\"\n    \n# Store the relevant columns in more descriptive variables\nx_sqft = data_array[:,0]\nnum_rooms = data_array[:,1]\ny_value = data_array[:,2]",
   "execution_count": null,
   "outputs": []
  },
  {
   "cell_type": "markdown",
   "source": "Here we'll build off of the tutorial exercise, first finding the best linear fit for floor area (sqft) vs valued price (USD). Recall that setting the derivative = 0 and solving for 𝑏 & 𝑚 produces formula for the best fit trend:\n$$ m = \\frac{\\sum^n_{i=1} (x_i-x_{mean})(y_i-y_{mean})}{\\sum^n_{i=1} (x_i-x_{mean})^2} $$\n$$ b = y_{mean}-m*x_{mean} $$",
   "metadata": {
    "colab_type": "text",
    "id": "bubHPtJ5r9G-",
    "cell_id": "00003-b01bcf9e-ff62-4e42-afcb-ef176f000e15",
    "deepnote_cell_type": "markdown",
    "deepnote_cell_height": 102.40625
   }
  },
  {
   "cell_type": "code",
   "metadata": {
    "colab_type": "code",
    "id": "HaPeEPN8r9HA",
    "colab": {},
    "cell_id": "00004-4545490b-af34-4688-80d9-4600f5ac9202",
    "deepnote_to_be_reexecuted": false,
    "source_hash": "5698395e",
    "execution_start": 1657727534283,
    "execution_millis": 1,
    "deepnote_cell_type": "code",
    "deepnote_cell_height": 135
   },
   "source": "def find_best_fit(xx,yy):\n    m = sum((xx-xx.mean()) * (yy - yy.mean()))/sum((xx-xx.mean())**2)\n    b = yy.mean() - m * xx.mean()\n    return (m, b)",
   "execution_count": null,
   "outputs": []
  },
  {
   "cell_type": "code",
   "metadata": {
    "colab_type": "code",
    "id": "mfZ7t4F9r9HH",
    "colab": {},
    "cell_id": "00005-f6683d67-0f6a-4987-8563-6c2be2b4d96a",
    "deepnote_to_be_reexecuted": false,
    "source_hash": "9b2b15d2",
    "execution_start": 1657727534284,
    "execution_millis": 8,
    "deepnote_cell_type": "code",
    "deepnote_cell_height": 165.6875
   },
   "source": "# Use your function to show the best fit values for our data\n(mm, bb) = find_best_fit(x_sqft, y_value)\nfit_str = 'y = {aa:.1f}x + {bb:.1f}'\nprint(fit_str.format(aa=mm,bb=bb))",
   "execution_count": null,
   "outputs": [
    {
     "name": "stdout",
     "text": "y = 134.5x + 71270.5\n",
     "output_type": "stream"
    }
   ]
  },
  {
   "cell_type": "markdown",
   "source": "Now we have the best fit trend line that minimizes total error for our data, let's try plotting it and see what it looks like. Since its just an equation, we need to *sample* the curve in order to plot it. To do this, we'll find the difference between the largest and smallest floor area, and divide it into 100 sample points.",
   "metadata": {
    "colab_type": "text",
    "id": "jVYEfrpsr9HN",
    "cell_id": "00006-91d4b146-df2e-4bcf-af63-332049afb633",
    "deepnote_cell_type": "markdown",
    "deepnote_cell_height": 97.1875
   }
  },
  {
   "cell_type": "code",
   "metadata": {
    "colab_type": "code",
    "id": "dZARuzL7r9HO",
    "colab": {},
    "cell_id": "00007-e6b00473-e96d-4443-9d36-3d61e1bf97da",
    "deepnote_to_be_reexecuted": false,
    "source_hash": "94701e7b",
    "execution_start": 1657727534289,
    "execution_millis": 297,
    "deepnote_cell_type": "code",
    "deepnote_cell_height": 500.6875,
    "deepnote_output_heights": [
     null,
     250
    ]
   },
   "source": "x = np.linspace(x_sqft.min(),x_sqft.max(),100)\ny = 134.5 * x + 71270.5\n\na = plt.scatter(x, y)\n\n\nprint(329900-286470.5)",
   "execution_count": null,
   "outputs": [
    {
     "name": "stdout",
     "text": "43429.5\n",
     "output_type": "stream"
    },
    {
     "data": {
      "text/plain": "<Figure size 432x288 with 1 Axes>",
      "image/png": "[encoded data removed]"
     },
     "metadata": {
      "needs_background": "light",
      "image/png": {
       "width": 393,
       "height": 248
      }
     },
     "output_type": "display_data"
    }
   ]
  },
  {
   "cell_type": "markdown",
   "source": "1: Given these parameters, how much should a house with 1600 sqft cost?\n\n286470.5",
   "metadata": {
    "colab_type": "text",
    "id": "ywlWE2xtr9HU",
    "cell_id": "00008-c6508de2-a1ab-4853-8ed9-9cd10434795f",
    "deepnote_cell_type": "markdown",
    "deepnote_cell_height": 88.796875
   }
  },
  {
   "cell_type": "markdown",
   "source": "2: From the dataset, how much did a house with 1600 sqft actually cost?\n\n329900",
   "metadata": {
    "colab_type": "text",
    "id": "J4rZ9L_Rr9HV",
    "cell_id": "00009-d04cbdf5-56be-4f7f-bdea-b78b67fa42d9",
    "deepnote_cell_type": "markdown",
    "deepnote_cell_height": 88.796875
   }
  },
  {
   "cell_type": "markdown",
   "source": "3: Assuming the current 1600 sqft house would sell for as much as the historical one, how much money would we have lost? What percentage of the total price is this?\n\n$43429.5 lost\n\n13.164443770839648%",
   "metadata": {
    "colab_type": "text",
    "id": "KTZMjw7rr9HW",
    "cell_id": "00010-bed6d3ea-4578-4812-9014-ad5d07e42f6d",
    "deepnote_cell_type": "markdown",
    "deepnote_cell_height": 147.59375
   }
  },
  {
   "cell_type": "markdown",
   "source": "Now compare the values for 𝑚 and 𝑏 that sklearn generated in the tutorial notebook with the values that you found just now with your function. Hopefully they match.",
   "metadata": {
    "colab_type": "text",
    "id": "UN9zGe6Mr9HY",
    "cell_id": "00011-970ae067-7dde-4eff-97fb-c053e85eddb1",
    "deepnote_cell_type": "markdown",
    "deepnote_cell_height": 74.796875
   }
  },
  {
   "cell_type": "code",
   "metadata": {
    "colab_type": "code",
    "id": "CDw75BJrr9HZ",
    "colab": {},
    "cell_id": "00012-04c22e66-be2c-4952-a49d-a0589e58a023",
    "deepnote_to_be_reexecuted": false,
    "source_hash": "87c966f2",
    "execution_start": 1657727534588,
    "execution_millis": 4,
    "deepnote_cell_type": "code",
    "deepnote_cell_height": 149.390625
   },
   "source": "print(\"Sklearn:\",134.52528772, 71270.492448729)\nprint(\"My function:\",mm,bb)",
   "execution_count": null,
   "outputs": [
    {
     "name": "stdout",
     "text": "Sklearn: 134.52528772 71270.492448729\nMy function: 134.52528772024135 71270.49244872906\n",
     "output_type": "stream"
    }
   ]
  },
  {
   "cell_type": "markdown",
   "source": "---\nRemember how despite adding an entire new variable, the $R^2$ value barely increased? Let's investigate this further by finding the correlation ($R^2$) value for a regression of square footage vs. number of bedrooms.",
   "metadata": {
    "colab_type": "text",
    "id": "L5R8SjF9r9Hf",
    "cell_id": "00013-f8640495-e786-4732-bdc4-edff3eba311b",
    "deepnote_cell_type": "markdown",
    "deepnote_cell_height": 75.796875
   }
  },
  {
   "cell_type": "code",
   "metadata": {
    "colab_type": "code",
    "id": "gMPm_HXgr9Hg",
    "colab": {},
    "cell_id": "00014-61ac4d80-9163-47ee-b2da-1d657cc52077",
    "deepnote_to_be_reexecuted": false,
    "source_hash": "cc2e7a20",
    "execution_start": 1657727534592,
    "execution_millis": 1984,
    "owner_user_id": "a9684883-38a1-43f5-9d3b-f17f2208dccb",
    "deepnote_cell_type": "code",
    "deepnote_cell_height": 190.1875,
    "deepnote_output_heights": [
     21.1875
    ]
   },
   "source": "import sklearn.linear_model as lm\nx_sqft_shaped = x_sqft.reshape(-1,1)\nreg = lm.LinearRegression().fit(x_sqft_shaped,num_rooms)\nreg.score(x_sqft_shaped,num_rooms)\n",
   "execution_count": null,
   "outputs": [
    {
     "output_type": "execute_result",
     "execution_count": 6,
     "data": {
      "text/plain": "0.3135632699338188"
     },
     "metadata": {}
    }
   ]
  },
  {
   "cell_type": "markdown",
   "source": "Do 2 variables have to be verry correlated to reduce their effectiveness together?\nCorrelation =/= Causation boom?",
   "metadata": {
    "colab_type": "text",
    "id": "7QT8aPEQr9Hl",
    "cell_id": "00015-d3208db8-283e-47d8-bcd0-630d7958f77a",
    "deepnote_cell_type": "markdown",
    "deepnote_cell_height": 52.390625
   }
  },
  {
   "cell_type": "markdown",
   "source": "## Logistic",
   "metadata": {
    "colab_type": "text",
    "id": "HY_jT1uksAYu",
    "cell_id": "00016-4c0822c9-cb18-4193-a10d-acd737bfdfb2",
    "deepnote_cell_type": "markdown",
    "deepnote_cell_height": 70
   }
  },
  {
   "cell_type": "markdown",
   "source": "We are going to predict wheter or not someone has breast cancer using Logistic Regression on sklearn's breast cancer dataset. It is up to you to decide what features to get the best results.",
   "metadata": {
    "id": "bTR7FOhdqm_e",
    "colab_type": "text",
    "cell_id": "00017-1b373f19-5135-41be-86eb-dd00581e3c78",
    "deepnote_cell_type": "markdown",
    "deepnote_cell_height": 74.796875
   }
  },
  {
   "cell_type": "code",
   "metadata": {
    "cell_id": "fccd6cfdab384411843b6b1d872ec118",
    "tags": [],
    "owner_user_id": "9dcaf297-9988-4918-b39b-ac5975acf0de",
    "deepnote_to_be_reexecuted": false,
    "source_hash": "41314be4",
    "execution_start": 1657727536579,
    "execution_millis": 268,
    "deepnote_cell_type": "code",
    "deepnote_cell_height": 363.6875
   },
   "source": "from sklearn.datasets import load_breast_cancer\nfrom sklearn.model_selection import train_test_split\nfrom sklearn.linear_model import LogisticRegression\nfrom sklearn.metrics import accuracy_score\n\ndata = load_breast_cancer()\nfeatures = data['data']\ny = data['target']\n\ntest_size = .30\nX_train, X_val, y_train, y_val = train_test_split(features, y, test_size=test_size, random_state=1)\nlogreg = LogisticRegression()\nlogreg.fit(X_train, y_train)\ny_val_pred=logreg.predict(X_val)\nprint(\"Validation Accuracy is \", accuracy_score(y_val,y_val_pred)*100, \"%\")",
   "execution_count": null,
   "outputs": [
    {
     "name": "stdout",
     "text": "Validation Accuracy is  85.63829787234043 %\n",
     "output_type": "stream"
    }
   ]
  },
  {
   "cell_type": "code",
   "metadata": {
    "colab_type": "code",
    "id": "Pg6kfm6VAdhN",
    "colab": {},
    "cell_id": "00018-d703d1de-62e7-4318-926b-f033ceb37124",
    "deepnote_to_be_reexecuted": false,
    "source_hash": "1aadfa7a",
    "execution_start": 1657728023282,
    "execution_millis": 126,
    "owner_user_id": "c8be63ec-db47-43cb-a249-a954ea3fe36c",
    "deepnote_cell_type": "code",
    "deepnote_cell_height": 882.390625
   },
   "source": "from sklearn.datasets import load_breast_cancer\nfrom sklearn.model_selection import train_test_split\nfrom sklearn.linear_model import LogisticRegression\nfrom sklearn.metrics import accuracy_score\nimport pandas as pd\n\ndata = load_breast_cancer()\nfeature_names = data['feature_names']\n\n\ndf = pd.DataFrame(data['data'], columns = feature_names)\n\ndf['target'] = data['target']\n\n\nx_cols = ['mean perimeter', 'mean symmetry']\ny_cols = 'target'\n\ntest_size = 0.15\nX_train, X_val, y_train, y_val = train_test_split(df[x_cols], df[y_cols], test_size=test_size, random_state=1)\nlogreg = LogisticRegression()\nlogreg.fit(X_train, y_train)\n\ny_train_pred=logreg.predict(X_train)\nprint(f\"Training Accuracy is {accuracy_score(y_train, y_train_pred)*100}%\")\ny_val_pred=logreg.predict(X_val)\nprint(f\"Validation Accuracy is {accuracy_score(y_val,y_val_pred)*100}%\")\n\n",
   "execution_count": null,
   "outputs": [
    {
     "name": "stdout",
     "text": "Training Accuracy is 89.02691511387164%\nValidation Accuracy is 87.20930232558139%\n",
     "output_type": "stream"
    },
    {
     "output_type": "execute_result",
     "execution_count": 9,
     "data": {
      "application/vnd.deepnote.dataframe.v3+json": {
       "column_count": 31,
       "row_count": 3,
       "columns": [
        {
         "name": "mean radius",
         "dtype": "float64",
         "stats": {
          "unique_count": 3,
          "nan_count": 0,
          "min": "17.99",
          "max": "20.57",
          "histogram": [
           {
            "bin_start": 17.99,
            "bin_end": 18.247999999999998,
            "count": 1
           },
           {
            "bin_start": 18.247999999999998,
            "bin_end": 18.506,
            "count": 0
           },
           {
            "bin_start": 18.506,
            "bin_end": 18.764,
            "count": 0
           },
           {
            "bin_start": 18.764,
            "bin_end": 19.022,
            "count": 0
           },
           {
            "bin_start": 19.022,
            "bin_end": 19.28,
            "count": 0
           },
           {
            "bin_start": 19.28,
            "bin_end": 19.538,
            "count": 0
           },
           {
            "bin_start": 19.538,
            "bin_end": 19.796,
            "count": 1
           },
           {
            "bin_start": 19.796,
            "bin_end": 20.054,
            "count": 0
           },
           {
            "bin_start": 20.054,
            "bin_end": 20.312,
            "count": 0
           },
           {
            "bin_start": 20.312,
            "bin_end": 20.57,
            "count": 1
           }
          ]
         }
        },
        {
         "name": "mean texture",
         "dtype": "float64",
         "stats": {
          "unique_count": 3,
          "nan_count": 0,
          "min": "10.38",
          "max": "21.25",
          "histogram": [
           {
            "bin_start": 10.38,
            "bin_end": 11.467,
            "count": 1
           },
           {
            "bin_start": 11.467,
            "bin_end": 12.554,
            "count": 0
           },
           {
            "bin_start": 12.554,
            "bin_end": 13.641000000000002,
            "count": 0
           },
           {
            "bin_start": 13.641000000000002,
            "bin_end": 14.728000000000002,
            "count": 0
           },
           {
            "bin_start": 14.728000000000002,
            "bin_end": 15.815000000000001,
            "count": 0
           },
           {
            "bin_start": 15.815000000000001,
            "bin_end": 16.902,
            "count": 0
           },
           {
            "bin_start": 16.902,
            "bin_end": 17.989,
            "count": 1
           },
           {
            "bin_start": 17.989,
            "bin_end": 19.076,
            "count": 0
           },
           {
            "bin_start": 19.076,
            "bin_end": 20.163,
            "count": 0
           },
           {
            "bin_start": 20.163,
            "bin_end": 21.25,
            "count": 1
           }
          ]
         }
        },
        {
         "name": "mean perimeter",
         "dtype": "float64",
         "stats": {
          "unique_count": 3,
          "nan_count": 0,
          "min": "122.8",
          "max": "132.9",
          "histogram": [
           {
            "bin_start": 122.8,
            "bin_end": 123.81,
            "count": 1
           },
           {
            "bin_start": 123.81,
            "bin_end": 124.82,
            "count": 0
           },
           {
            "bin_start": 124.82,
            "bin_end": 125.83,
            "count": 0
           },
           {
            "bin_start": 125.83,
            "bin_end": 126.84,
            "count": 0
           },
           {
            "bin_start": 126.84,
            "bin_end": 127.85,
            "count": 0
           },
           {
            "bin_start": 127.85,
            "bin_end": 128.86,
            "count": 0
           },
           {
            "bin_start": 128.86,
            "bin_end": 129.87,
            "count": 0
           },
           {
            "bin_start": 129.87,
            "bin_end": 130.88,
            "count": 1
           },
           {
            "bin_start": 130.88,
            "bin_end": 131.89000000000001,
            "count": 0
           },
           {
            "bin_start": 131.89000000000001,
            "bin_end": 132.9,
            "count": 1
           }
          ]
         }
        },
        {
         "name": "mean area",
         "dtype": "float64",
         "stats": {
          "unique_count": 3,
          "nan_count": 0,
          "min": "1001.0",
          "max": "1326.0",
          "histogram": [
           {
            "bin_start": 1001,
            "bin_end": 1033.5,
            "count": 1
           },
           {
            "bin_start": 1033.5,
            "bin_end": 1066,
            "count": 0
           },
           {
            "bin_start": 1066,
            "bin_end": 1098.5,
            "count": 0
           },
           {
            "bin_start": 1098.5,
            "bin_end": 1131,
            "count": 0
           },
           {
            "bin_start": 1131,
            "bin_end": 1163.5,
            "count": 0
           },
           {
            "bin_start": 1163.5,
            "bin_end": 1196,
            "count": 0
           },
           {
            "bin_start": 1196,
            "bin_end": 1228.5,
            "count": 1
           },
           {
            "bin_start": 1228.5,
            "bin_end": 1261,
            "count": 0
           },
           {
            "bin_start": 1261,
            "bin_end": 1293.5,
            "count": 0
           },
           {
            "bin_start": 1293.5,
            "bin_end": 1326,
            "count": 1
           }
          ]
         }
        },
        {
         "name": "mean smoothness",
         "dtype": "float64",
         "stats": {
          "unique_count": 3,
          "nan_count": 0,
          "min": "0.08474",
          "max": "0.1184",
          "histogram": [
           {
            "bin_start": 0.08474,
            "bin_end": 0.08810599999999999,
            "count": 1
           },
           {
            "bin_start": 0.08810599999999999,
            "bin_end": 0.091472,
            "count": 0
           },
           {
            "bin_start": 0.091472,
            "bin_end": 0.094838,
            "count": 0
           },
           {
            "bin_start": 0.094838,
            "bin_end": 0.098204,
            "count": 0
           },
           {
            "bin_start": 0.098204,
            "bin_end": 0.10157,
            "count": 0
           },
           {
            "bin_start": 0.10157,
            "bin_end": 0.104936,
            "count": 0
           },
           {
            "bin_start": 0.104936,
            "bin_end": 0.10830200000000001,
            "count": 0
           },
           {
            "bin_start": 0.10830200000000001,
            "bin_end": 0.111668,
            "count": 1
           },
           {
            "bin_start": 0.111668,
            "bin_end": 0.115034,
            "count": 0
           },
           {
            "bin_start": 0.115034,
            "bin_end": 0.1184,
            "count": 1
           }
          ]
         }
        },
        {
         "name": "mean compactness",
         "dtype": "float64",
         "stats": {
          "unique_count": 3,
          "nan_count": 0,
          "min": "0.07864",
          "max": "0.2776",
          "histogram": [
           {
            "bin_start": 0.07864,
            "bin_end": 0.09853600000000001,
            "count": 1
           },
           {
            "bin_start": 0.09853600000000001,
            "bin_end": 0.11843200000000001,
            "count": 0
           },
           {
            "bin_start": 0.11843200000000001,
            "bin_end": 0.138328,
            "count": 0
           },
           {
            "bin_start": 0.138328,
            "bin_end": 0.15822400000000003,
            "count": 0
           },
           {
            "bin_start": 0.15822400000000003,
            "bin_end": 0.17812,
            "count": 1
           },
           {
            "bin_start": 0.17812,
            "bin_end": 0.19801600000000003,
            "count": 0
           },
           {
            "bin_start": 0.19801600000000003,
            "bin_end": 0.21791200000000005,
            "count": 0
           },
           {
            "bin_start": 0.21791200000000005,
            "bin_end": 0.23780800000000002,
            "count": 0
           },
           {
            "bin_start": 0.23780800000000002,
            "bin_end": 0.25770400000000004,
            "count": 0
           },
           {
            "bin_start": 0.25770400000000004,
            "bin_end": 0.2776,
            "count": 1
           }
          ]
         }
        },
        {
         "name": "mean concavity",
         "dtype": "float64",
         "stats": {
          "unique_count": 3,
          "nan_count": 0,
          "min": "0.0869",
          "max": "0.3001",
          "histogram": [
           {
            "bin_start": 0.0869,
            "bin_end": 0.10822000000000001,
            "count": 1
           },
           {
            "bin_start": 0.10822000000000001,
            "bin_end": 0.12954,
            "count": 0
           },
           {
            "bin_start": 0.12954,
            "bin_end": 0.15086,
            "count": 0
           },
           {
            "bin_start": 0.15086,
            "bin_end": 0.17218,
            "count": 0
           },
           {
            "bin_start": 0.17218,
            "bin_end": 0.1935,
            "count": 0
           },
           {
            "bin_start": 0.1935,
            "bin_end": 0.21481999999999998,
            "count": 1
           },
           {
            "bin_start": 0.21481999999999998,
            "bin_end": 0.23614,
            "count": 0
           },
           {
            "bin_start": 0.23614,
            "bin_end": 0.25746,
            "count": 0
           },
           {
            "bin_start": 0.25746,
            "bin_end": 0.27878000000000003,
            "count": 0
           },
           {
            "bin_start": 0.27878000000000003,
            "bin_end": 0.3001,
            "count": 1
           }
          ]
         }
        },
        {
         "name": "mean concave points",
         "dtype": "float64",
         "stats": {
          "unique_count": 3,
          "nan_count": 0,
          "min": "0.07017",
          "max": "0.1471",
          "histogram": [
           {
            "bin_start": 0.07017,
            "bin_end": 0.077863,
            "count": 1
           },
           {
            "bin_start": 0.077863,
            "bin_end": 0.085556,
            "count": 0
           },
           {
            "bin_start": 0.085556,
            "bin_end": 0.093249,
            "count": 0
           },
           {
            "bin_start": 0.093249,
            "bin_end": 0.100942,
            "count": 0
           },
           {
            "bin_start": 0.100942,
            "bin_end": 0.10863500000000001,
            "count": 0
           },
           {
            "bin_start": 0.10863500000000001,
            "bin_end": 0.116328,
            "count": 0
           },
           {
            "bin_start": 0.116328,
            "bin_end": 0.124021,
            "count": 0
           },
           {
            "bin_start": 0.124021,
            "bin_end": 0.131714,
            "count": 1
           },
           {
            "bin_start": 0.131714,
            "bin_end": 0.139407,
            "count": 0
           },
           {
            "bin_start": 0.139407,
            "bin_end": 0.1471,
            "count": 1
           }
          ]
         }
        },
        {
         "name": "mean symmetry",
         "dtype": "float64",
         "stats": {
          "unique_count": 3,
          "nan_count": 0,
          "min": "0.1812",
          "max": "0.2419",
          "histogram": [
           {
            "bin_start": 0.1812,
            "bin_end": 0.18727,
            "count": 1
           },
           {
            "bin_start": 0.18727,
            "bin_end": 0.19334,
            "count": 0
           },
           {
            "bin_start": 0.19334,
            "bin_end": 0.19941,
            "count": 0
           },
           {
            "bin_start": 0.19941,
            "bin_end": 0.20548,
            "count": 0
           },
           {
            "bin_start": 0.20548,
            "bin_end": 0.21155000000000002,
            "count": 1
           },
           {
            "bin_start": 0.21155000000000002,
            "bin_end": 0.21762,
            "count": 0
           },
           {
            "bin_start": 0.21762,
            "bin_end": 0.22369,
            "count": 0
           },
           {
            "bin_start": 0.22369,
            "bin_end": 0.22976000000000002,
            "count": 0
           },
           {
            "bin_start": 0.22976000000000002,
            "bin_end": 0.23583,
            "count": 0
           },
           {
            "bin_start": 0.23583,
            "bin_end": 0.2419,
            "count": 1
           }
          ]
         }
        },
        {
         "name": "mean fractal dimension",
         "dtype": "float64",
         "stats": {
          "unique_count": 3,
          "nan_count": 0,
          "min": "0.05667",
          "max": "0.07871",
          "histogram": [
           {
            "bin_start": 0.05667,
            "bin_end": 0.058873999999999996,
            "count": 1
           },
           {
            "bin_start": 0.058873999999999996,
            "bin_end": 0.061078,
            "count": 1
           },
           {
            "bin_start": 0.061078,
            "bin_end": 0.063282,
            "count": 0
           },
           {
            "bin_start": 0.063282,
            "bin_end": 0.065486,
            "count": 0
           },
           {
            "bin_start": 0.065486,
            "bin_end": 0.06769,
            "count": 0
           },
           {
            "bin_start": 0.06769,
            "bin_end": 0.069894,
            "count": 0
           },
           {
            "bin_start": 0.069894,
            "bin_end": 0.072098,
            "count": 0
           },
           {
            "bin_start": 0.072098,
            "bin_end": 0.074302,
            "count": 0
           },
           {
            "bin_start": 0.074302,
            "bin_end": 0.076506,
            "count": 0
           },
           {
            "bin_start": 0.076506,
            "bin_end": 0.07871,
            "count": 1
           }
          ]
         }
        },
        {
         "name": "radius error",
         "dtype": "float64",
         "stats": {
          "unique_count": 3,
          "nan_count": 0,
          "min": "0.5435",
          "max": "1.095",
          "histogram": [
           {
            "bin_start": 0.5435,
            "bin_end": 0.59865,
            "count": 1
           },
           {
            "bin_start": 0.59865,
            "bin_end": 0.6537999999999999,
            "count": 0
           },
           {
            "bin_start": 0.6537999999999999,
            "bin_end": 0.70895,
            "count": 0
           },
           {
            "bin_start": 0.70895,
            "bin_end": 0.7641,
            "count": 1
           },
           {
            "bin_start": 0.7641,
            "bin_end": 0.81925,
            "count": 0
           },
           {
            "bin_start": 0.81925,
            "bin_end": 0.8744,
            "count": 0
           },
           {
            "bin_start": 0.8744,
            "bin_end": 0.92955,
            "count": 0
           },
           {
            "bin_start": 0.92955,
            "bin_end": 0.9846999999999999,
            "count": 0
           },
           {
            "bin_start": 0.9846999999999999,
            "bin_end": 1.03985,
            "count": 0
           },
           {
            "bin_start": 1.03985,
            "bin_end": 1.095,
            "count": 1
           }
          ]
         }
        },
        {
         "name": "texture error",
         "dtype": "float64",
         "stats": {
          "unique_count": 3,
          "nan_count": 0,
          "min": "0.7339",
          "max": "0.9053",
          "histogram": [
           {
            "bin_start": 0.7339,
            "bin_end": 0.75104,
            "count": 1
           },
           {
            "bin_start": 0.75104,
            "bin_end": 0.76818,
            "count": 0
           },
           {
            "bin_start": 0.76818,
            "bin_end": 0.78532,
            "count": 0
           },
           {
            "bin_start": 0.78532,
            "bin_end": 0.80246,
            "count": 1
           },
           {
            "bin_start": 0.80246,
            "bin_end": 0.8196,
            "count": 0
           },
           {
            "bin_start": 0.8196,
            "bin_end": 0.83674,
            "count": 0
           },
           {
            "bin_start": 0.83674,
            "bin_end": 0.85388,
            "count": 0
           },
           {
            "bin_start": 0.85388,
            "bin_end": 0.87102,
            "count": 0
           },
           {
            "bin_start": 0.87102,
            "bin_end": 0.88816,
            "count": 0
           },
           {
            "bin_start": 0.88816,
            "bin_end": 0.9053,
            "count": 1
           }
          ]
         }
        },
        {
         "name": "perimeter error",
         "dtype": "float64",
         "stats": {
          "unique_count": 3,
          "nan_count": 0,
          "min": "3.398",
          "max": "8.589",
          "histogram": [
           {
            "bin_start": 3.398,
            "bin_end": 3.9171000000000005,
            "count": 1
           },
           {
            "bin_start": 3.9171000000000005,
            "bin_end": 4.4362,
            "count": 0
           },
           {
            "bin_start": 4.4362,
            "bin_end": 4.9553,
            "count": 1
           },
           {
            "bin_start": 4.9553,
            "bin_end": 5.474400000000001,
            "count": 0
           },
           {
            "bin_start": 5.474400000000001,
            "bin_end": 5.993500000000001,
            "count": 0
           },
           {
            "bin_start": 5.993500000000001,
            "bin_end": 6.512600000000001,
            "count": 0
           },
           {
            "bin_start": 6.512600000000001,
            "bin_end": 7.031700000000001,
            "count": 0
           },
           {
            "bin_start": 7.031700000000001,
            "bin_end": 7.550800000000001,
            "count": 0
           },
           {
            "bin_start": 7.550800000000001,
            "bin_end": 8.0699,
            "count": 0
           },
           {
            "bin_start": 8.0699,
            "bin_end": 8.589,
            "count": 1
           }
          ]
         }
        },
        {
         "name": "area error",
         "dtype": "float64",
         "stats": {
          "unique_count": 3,
          "nan_count": 0,
          "min": "74.08",
          "max": "153.4",
          "histogram": [
           {
            "bin_start": 74.08,
            "bin_end": 82.012,
            "count": 1
           },
           {
            "bin_start": 82.012,
            "bin_end": 89.944,
            "count": 0
           },
           {
            "bin_start": 89.944,
            "bin_end": 97.876,
            "count": 1
           },
           {
            "bin_start": 97.876,
            "bin_end": 105.80799999999999,
            "count": 0
           },
           {
            "bin_start": 105.80799999999999,
            "bin_end": 113.74000000000001,
            "count": 0
           },
           {
            "bin_start": 113.74000000000001,
            "bin_end": 121.672,
            "count": 0
           },
           {
            "bin_start": 121.672,
            "bin_end": 129.60399999999998,
            "count": 0
           },
           {
            "bin_start": 129.60399999999998,
            "bin_end": 137.536,
            "count": 0
           },
           {
            "bin_start": 137.536,
            "bin_end": 145.46800000000002,
            "count": 0
           },
           {
            "bin_start": 145.46800000000002,
            "bin_end": 153.4,
            "count": 1
           }
          ]
         }
        },
        {
         "name": "smoothness error",
         "dtype": "float64",
         "stats": {
          "unique_count": 3,
          "nan_count": 0,
          "min": "0.005225",
          "max": "0.006399",
          "histogram": [
           {
            "bin_start": 0.005225,
            "bin_end": 0.0053424,
            "count": 1
           },
           {
            "bin_start": 0.0053424,
            "bin_end": 0.0054598,
            "count": 0
           },
           {
            "bin_start": 0.0054598,
            "bin_end": 0.0055772,
            "count": 0
           },
           {
            "bin_start": 0.0055772,
            "bin_end": 0.0056946,
            "count": 0
           },
           {
            "bin_start": 0.0056946,
            "bin_end": 0.0058119999999999995,
            "count": 0
           },
           {
            "bin_start": 0.0058119999999999995,
            "bin_end": 0.0059294,
            "count": 0
           },
           {
            "bin_start": 0.0059294,
            "bin_end": 0.0060468,
            "count": 0
           },
           {
            "bin_start": 0.0060468,
            "bin_end": 0.0061642,
            "count": 1
           },
           {
            "bin_start": 0.0061642,
            "bin_end": 0.0062816,
            "count": 0
           },
           {
            "bin_start": 0.0062816,
            "bin_end": 0.006399,
            "count": 1
           }
          ]
         }
        },
        {
         "name": "compactness error",
         "dtype": "float64",
         "stats": {
          "unique_count": 3,
          "nan_count": 0,
          "min": "0.01308",
          "max": "0.04904",
          "histogram": [
           {
            "bin_start": 0.01308,
            "bin_end": 0.016676,
            "count": 1
           },
           {
            "bin_start": 0.016676,
            "bin_end": 0.020272,
            "count": 0
           },
           {
            "bin_start": 0.020272,
            "bin_end": 0.023868,
            "count": 0
           },
           {
            "bin_start": 0.023868,
            "bin_end": 0.027464,
            "count": 0
           },
           {
            "bin_start": 0.027464,
            "bin_end": 0.031059999999999997,
            "count": 0
           },
           {
            "bin_start": 0.031059999999999997,
            "bin_end": 0.034656,
            "count": 0
           },
           {
            "bin_start": 0.034656,
            "bin_end": 0.038252,
            "count": 0
           },
           {
            "bin_start": 0.038252,
            "bin_end": 0.041847999999999996,
            "count": 1
           },
           {
            "bin_start": 0.041847999999999996,
            "bin_end": 0.045444,
            "count": 0
           },
           {
            "bin_start": 0.045444,
            "bin_end": 0.04904,
            "count": 1
           }
          ]
         }
        },
        {
         "name": "concavity error",
         "dtype": "float64",
         "stats": {
          "unique_count": 3,
          "nan_count": 0,
          "min": "0.0186",
          "max": "0.05373",
          "histogram": [
           {
            "bin_start": 0.0186,
            "bin_end": 0.022112999999999997,
            "count": 1
           },
           {
            "bin_start": 0.022112999999999997,
            "bin_end": 0.025626,
            "count": 0
           },
           {
            "bin_start": 0.025626,
            "bin_end": 0.029138999999999998,
            "count": 0
           },
           {
            "bin_start": 0.029138999999999998,
            "bin_end": 0.032652,
            "count": 0
           },
           {
            "bin_start": 0.032652,
            "bin_end": 0.036165,
            "count": 0
           },
           {
            "bin_start": 0.036165,
            "bin_end": 0.039678,
            "count": 1
           },
           {
            "bin_start": 0.039678,
            "bin_end": 0.043191,
            "count": 0
           },
           {
            "bin_start": 0.043191,
            "bin_end": 0.046703999999999996,
            "count": 0
           },
           {
            "bin_start": 0.046703999999999996,
            "bin_end": 0.050217,
            "count": 0
           },
           {
            "bin_start": 0.050217,
            "bin_end": 0.05373,
            "count": 1
           }
          ]
         }
        },
        {
         "name": "concave points error",
         "dtype": "float64",
         "stats": {
          "unique_count": 3,
          "nan_count": 0,
          "min": "0.0134",
          "max": "0.02058",
          "histogram": [
           {
            "bin_start": 0.0134,
            "bin_end": 0.014118,
            "count": 1
           },
           {
            "bin_start": 0.014118,
            "bin_end": 0.014836,
            "count": 0
           },
           {
            "bin_start": 0.014836,
            "bin_end": 0.015554000000000002,
            "count": 0
           },
           {
            "bin_start": 0.015554000000000002,
            "bin_end": 0.016272000000000002,
            "count": 1
           },
           {
            "bin_start": 0.016272000000000002,
            "bin_end": 0.01699,
            "count": 0
           },
           {
            "bin_start": 0.01699,
            "bin_end": 0.017708,
            "count": 0
           },
           {
            "bin_start": 0.017708,
            "bin_end": 0.018426,
            "count": 0
           },
           {
            "bin_start": 0.018426,
            "bin_end": 0.019144,
            "count": 0
           },
           {
            "bin_start": 0.019144,
            "bin_end": 0.019862,
            "count": 0
           },
           {
            "bin_start": 0.019862,
            "bin_end": 0.02058,
            "count": 1
           }
          ]
         }
        },
        {
         "name": "symmetry error",
         "dtype": "float64",
         "stats": {
          "unique_count": 3,
          "nan_count": 0,
          "min": "0.01389",
          "max": "0.03003",
          "histogram": [
           {
            "bin_start": 0.01389,
            "bin_end": 0.015504,
            "count": 1
           },
           {
            "bin_start": 0.015504,
            "bin_end": 0.017118,
            "count": 0
           },
           {
            "bin_start": 0.017118,
            "bin_end": 0.018732,
            "count": 0
           },
           {
            "bin_start": 0.018732,
            "bin_end": 0.020346,
            "count": 0
           },
           {
            "bin_start": 0.020346,
            "bin_end": 0.02196,
            "count": 0
           },
           {
            "bin_start": 0.02196,
            "bin_end": 0.023574,
            "count": 1
           },
           {
            "bin_start": 0.023574,
            "bin_end": 0.025188000000000002,
            "count": 0
           },
           {
            "bin_start": 0.025188000000000002,
            "bin_end": 0.026802,
            "count": 0
           },
           {
            "bin_start": 0.026802,
            "bin_end": 0.028416000000000004,
            "count": 0
           },
           {
            "bin_start": 0.028416000000000004,
            "bin_end": 0.03003,
            "count": 1
           }
          ]
         }
        },
        {
         "name": "fractal dimension error",
         "dtype": "float64",
         "stats": {
          "unique_count": 3,
          "nan_count": 0,
          "min": "0.003532",
          "max": "0.006193",
          "histogram": [
           {
            "bin_start": 0.003532,
            "bin_end": 0.0037981,
            "count": 1
           },
           {
            "bin_start": 0.0037981,
            "bin_end": 0.0040642,
            "count": 0
           },
           {
            "bin_start": 0.0040642,
            "bin_end": 0.0043303,
            "count": 0
           },
           {
            "bin_start": 0.0043303,
            "bin_end": 0.0045964,
            "count": 1
           },
           {
            "bin_start": 0.0045964,
            "bin_end": 0.0048625,
            "count": 0
           },
           {
            "bin_start": 0.0048625,
            "bin_end": 0.0051286,
            "count": 0
           },
           {
            "bin_start": 0.0051286,
            "bin_end": 0.0053947,
            "count": 0
           },
           {
            "bin_start": 0.0053947,
            "bin_end": 0.0056608,
            "count": 0
           },
           {
            "bin_start": 0.0056608,
            "bin_end": 0.0059269,
            "count": 0
           },
           {
            "bin_start": 0.0059269,
            "bin_end": 0.006193,
            "count": 1
           }
          ]
         }
        },
        {
         "name": "worst radius",
         "dtype": "float64",
         "stats": {
          "unique_count": 3,
          "nan_count": 0,
          "min": "23.57",
          "max": "25.38",
          "histogram": [
           {
            "bin_start": 23.57,
            "bin_end": 23.751,
            "count": 1
           },
           {
            "bin_start": 23.751,
            "bin_end": 23.932,
            "count": 0
           },
           {
            "bin_start": 23.932,
            "bin_end": 24.113,
            "count": 0
           },
           {
            "bin_start": 24.113,
            "bin_end": 24.294,
            "count": 0
           },
           {
            "bin_start": 24.294,
            "bin_end": 24.475,
            "count": 0
           },
           {
            "bin_start": 24.475,
            "bin_end": 24.656,
            "count": 0
           },
           {
            "bin_start": 24.656,
            "bin_end": 24.837,
            "count": 0
           },
           {
            "bin_start": 24.837,
            "bin_end": 25.018,
            "count": 1
           },
           {
            "bin_start": 25.018,
            "bin_end": 25.198999999999998,
            "count": 0
           },
           {
            "bin_start": 25.198999999999998,
            "bin_end": 25.38,
            "count": 1
           }
          ]
         }
        },
        {
         "name": "worst texture",
         "dtype": "float64",
         "stats": {
          "unique_count": 3,
          "nan_count": 0,
          "min": "17.33",
          "max": "25.53",
          "histogram": [
           {
            "bin_start": 17.33,
            "bin_end": 18.15,
            "count": 1
           },
           {
            "bin_start": 18.15,
            "bin_end": 18.97,
            "count": 0
           },
           {
            "bin_start": 18.97,
            "bin_end": 19.79,
            "count": 0
           },
           {
            "bin_start": 19.79,
            "bin_end": 20.61,
            "count": 0
           },
           {
            "bin_start": 20.61,
            "bin_end": 21.43,
            "count": 0
           },
           {
            "bin_start": 21.43,
            "bin_end": 22.25,
            "count": 0
           },
           {
            "bin_start": 22.25,
            "bin_end": 23.07,
            "count": 0
           },
           {
            "bin_start": 23.07,
            "bin_end": 23.89,
            "count": 1
           },
           {
            "bin_start": 23.89,
            "bin_end": 24.71,
            "count": 0
           },
           {
            "bin_start": 24.71,
            "bin_end": 25.53,
            "count": 1
           }
          ]
         }
        },
        {
         "name": "worst perimeter",
         "dtype": "float64",
         "stats": {
          "unique_count": 3,
          "nan_count": 0,
          "min": "152.5",
          "max": "184.6",
          "histogram": [
           {
            "bin_start": 152.5,
            "bin_end": 155.71,
            "count": 1
           },
           {
            "bin_start": 155.71,
            "bin_end": 158.92,
            "count": 1
           },
           {
            "bin_start": 158.92,
            "bin_end": 162.13,
            "count": 0
           },
           {
            "bin_start": 162.13,
            "bin_end": 165.34,
            "count": 0
           },
           {
            "bin_start": 165.34,
            "bin_end": 168.55,
            "count": 0
           },
           {
            "bin_start": 168.55,
            "bin_end": 171.76,
            "count": 0
           },
           {
            "bin_start": 171.76,
            "bin_end": 174.97,
            "count": 0
           },
           {
            "bin_start": 174.97,
            "bin_end": 178.18,
            "count": 0
           },
           {
            "bin_start": 178.18,
            "bin_end": 181.39,
            "count": 0
           },
           {
            "bin_start": 181.39,
            "bin_end": 184.6,
            "count": 1
           }
          ]
         }
        },
        {
         "name": "worst area",
         "dtype": "float64",
         "stats": {
          "unique_count": 3,
          "nan_count": 0,
          "min": "1709.0",
          "max": "2019.0",
          "histogram": [
           {
            "bin_start": 1709,
            "bin_end": 1740,
            "count": 1
           },
           {
            "bin_start": 1740,
            "bin_end": 1771,
            "count": 0
           },
           {
            "bin_start": 1771,
            "bin_end": 1802,
            "count": 0
           },
           {
            "bin_start": 1802,
            "bin_end": 1833,
            "count": 0
           },
           {
            "bin_start": 1833,
            "bin_end": 1864,
            "count": 0
           },
           {
            "bin_start": 1864,
            "bin_end": 1895,
            "count": 0
           },
           {
            "bin_start": 1895,
            "bin_end": 1926,
            "count": 0
           },
           {
            "bin_start": 1926,
            "bin_end": 1957,
            "count": 1
           },
           {
            "bin_start": 1957,
            "bin_end": 1988,
            "count": 0
           },
           {
            "bin_start": 1988,
            "bin_end": 2019,
            "count": 1
           }
          ]
         }
        },
        {
         "name": "worst smoothness",
         "dtype": "float64",
         "stats": {
          "unique_count": 3,
          "nan_count": 0,
          "min": "0.1238",
          "max": "0.1622",
          "histogram": [
           {
            "bin_start": 0.1238,
            "bin_end": 0.12764,
            "count": 1
           },
           {
            "bin_start": 0.12764,
            "bin_end": 0.13147999999999999,
            "count": 0
           },
           {
            "bin_start": 0.13147999999999999,
            "bin_end": 0.13532,
            "count": 0
           },
           {
            "bin_start": 0.13532,
            "bin_end": 0.13916,
            "count": 0
           },
           {
            "bin_start": 0.13916,
            "bin_end": 0.14300000000000002,
            "count": 0
           },
           {
            "bin_start": 0.14300000000000002,
            "bin_end": 0.14684,
            "count": 1
           },
           {
            "bin_start": 0.14684,
            "bin_end": 0.15068,
            "count": 0
           },
           {
            "bin_start": 0.15068,
            "bin_end": 0.15452000000000002,
            "count": 0
           },
           {
            "bin_start": 0.15452000000000002,
            "bin_end": 0.15836,
            "count": 0
           },
           {
            "bin_start": 0.15836,
            "bin_end": 0.1622,
            "count": 1
           }
          ]
         }
        },
        {
         "name": "worst compactness",
         "dtype": "float64",
         "stats": {
          "unique_count": 3,
          "nan_count": 0,
          "min": "0.1866",
          "max": "0.6656",
          "histogram": [
           {
            "bin_start": 0.1866,
            "bin_end": 0.2345,
            "count": 1
           },
           {
            "bin_start": 0.2345,
            "bin_end": 0.2824,
            "count": 0
           },
           {
            "bin_start": 0.2824,
            "bin_end": 0.3303,
            "count": 0
           },
           {
            "bin_start": 0.3303,
            "bin_end": 0.3782,
            "count": 0
           },
           {
            "bin_start": 0.3782,
            "bin_end": 0.4261,
            "count": 1
           },
           {
            "bin_start": 0.4261,
            "bin_end": 0.474,
            "count": 0
           },
           {
            "bin_start": 0.474,
            "bin_end": 0.5219,
            "count": 0
           },
           {
            "bin_start": 0.5219,
            "bin_end": 0.5698,
            "count": 0
           },
           {
            "bin_start": 0.5698,
            "bin_end": 0.6176999999999999,
            "count": 0
           },
           {
            "bin_start": 0.6176999999999999,
            "bin_end": 0.6656,
            "count": 1
           }
          ]
         }
        },
        {
         "name": "worst concavity",
         "dtype": "float64",
         "stats": {
          "unique_count": 3,
          "nan_count": 0,
          "min": "0.2416",
          "max": "0.7119",
          "histogram": [
           {
            "bin_start": 0.2416,
            "bin_end": 0.28863,
            "count": 1
           },
           {
            "bin_start": 0.28863,
            "bin_end": 0.33566,
            "count": 0
           },
           {
            "bin_start": 0.33566,
            "bin_end": 0.38269,
            "count": 0
           },
           {
            "bin_start": 0.38269,
            "bin_end": 0.42972,
            "count": 0
           },
           {
            "bin_start": 0.42972,
            "bin_end": 0.47675,
            "count": 1
           },
           {
            "bin_start": 0.47675,
            "bin_end": 0.52378,
            "count": 0
           },
           {
            "bin_start": 0.52378,
            "bin_end": 0.5708099999999999,
            "count": 0
           },
           {
            "bin_start": 0.5708099999999999,
            "bin_end": 0.61784,
            "count": 0
           },
           {
            "bin_start": 0.61784,
            "bin_end": 0.66487,
            "count": 0
           },
           {
            "bin_start": 0.66487,
            "bin_end": 0.7119,
            "count": 1
           }
          ]
         }
        },
        {
         "name": "worst concave points",
         "dtype": "float64",
         "stats": {
          "unique_count": 3,
          "nan_count": 0,
          "min": "0.186",
          "max": "0.2654",
          "histogram": [
           {
            "bin_start": 0.186,
            "bin_end": 0.19394,
            "count": 1
           },
           {
            "bin_start": 0.19394,
            "bin_end": 0.20188,
            "count": 0
           },
           {
            "bin_start": 0.20188,
            "bin_end": 0.20982,
            "count": 0
           },
           {
            "bin_start": 0.20982,
            "bin_end": 0.21776,
            "count": 0
           },
           {
            "bin_start": 0.21776,
            "bin_end": 0.2257,
            "count": 0
           },
           {
            "bin_start": 0.2257,
            "bin_end": 0.23364000000000001,
            "count": 0
           },
           {
            "bin_start": 0.23364000000000001,
            "bin_end": 0.24158000000000002,
            "count": 0
           },
           {
            "bin_start": 0.24158000000000002,
            "bin_end": 0.24952000000000002,
            "count": 1
           },
           {
            "bin_start": 0.24952000000000002,
            "bin_end": 0.25746,
            "count": 0
           },
           {
            "bin_start": 0.25746,
            "bin_end": 0.2654,
            "count": 1
           }
          ]
         }
        },
        {
         "name": "worst symmetry",
         "dtype": "float64",
         "stats": {
          "unique_count": 3,
          "nan_count": 0,
          "min": "0.275",
          "max": "0.4601",
          "histogram": [
           {
            "bin_start": 0.275,
            "bin_end": 0.29351000000000005,
            "count": 1
           },
           {
            "bin_start": 0.29351000000000005,
            "bin_end": 0.31202,
            "count": 0
           },
           {
            "bin_start": 0.31202,
            "bin_end": 0.33053,
            "count": 0
           },
           {
            "bin_start": 0.33053,
            "bin_end": 0.34904,
            "count": 0
           },
           {
            "bin_start": 0.34904,
            "bin_end": 0.36755000000000004,
            "count": 1
           },
           {
            "bin_start": 0.36755000000000004,
            "bin_end": 0.38606,
            "count": 0
           },
           {
            "bin_start": 0.38606,
            "bin_end": 0.40457,
            "count": 0
           },
           {
            "bin_start": 0.40457,
            "bin_end": 0.42308,
            "count": 0
           },
           {
            "bin_start": 0.42308,
            "bin_end": 0.44159000000000004,
            "count": 0
           },
           {
            "bin_start": 0.44159000000000004,
            "bin_end": 0.4601,
            "count": 1
           }
          ]
         }
        },
        {
         "name": "worst fractal dimension",
         "dtype": "float64",
         "stats": {
          "unique_count": 3,
          "nan_count": 0,
          "min": "0.08758",
          "max": "0.1189",
          "histogram": [
           {
            "bin_start": 0.08758,
            "bin_end": 0.090712,
            "count": 2
           },
           {
            "bin_start": 0.090712,
            "bin_end": 0.09384400000000001,
            "count": 0
           },
           {
            "bin_start": 0.09384400000000001,
            "bin_end": 0.096976,
            "count": 0
           },
           {
            "bin_start": 0.096976,
            "bin_end": 0.100108,
            "count": 0
           },
           {
            "bin_start": 0.100108,
            "bin_end": 0.10324,
            "count": 0
           },
           {
            "bin_start": 0.10324,
            "bin_end": 0.10637200000000001,
            "count": 0
           },
           {
            "bin_start": 0.10637200000000001,
            "bin_end": 0.109504,
            "count": 0
           },
           {
            "bin_start": 0.109504,
            "bin_end": 0.11263600000000001,
            "count": 0
           },
           {
            "bin_start": 0.11263600000000001,
            "bin_end": 0.11576800000000001,
            "count": 0
           },
           {
            "bin_start": 0.11576800000000001,
            "bin_end": 0.1189,
            "count": 1
           }
          ]
         }
        },
        {
         "name": "target",
         "dtype": "int64",
         "stats": {
          "unique_count": 1,
          "nan_count": 0,
          "min": "0",
          "max": "0",
          "histogram": [
           {
            "bin_start": -0.5,
            "bin_end": -0.4,
            "count": 0
           },
           {
            "bin_start": -0.4,
            "bin_end": -0.3,
            "count": 0
           },
           {
            "bin_start": -0.3,
            "bin_end": -0.19999999999999996,
            "count": 0
           },
           {
            "bin_start": -0.19999999999999996,
            "bin_end": -0.09999999999999998,
            "count": 0
           },
           {
            "bin_start": -0.09999999999999998,
            "bin_end": 0,
            "count": 0
           },
           {
            "bin_start": 0,
            "bin_end": 0.10000000000000009,
            "count": 3
           },
           {
            "bin_start": 0.10000000000000009,
            "bin_end": 0.20000000000000007,
            "count": 0
           },
           {
            "bin_start": 0.20000000000000007,
            "bin_end": 0.30000000000000004,
            "count": 0
           },
           {
            "bin_start": 0.30000000000000004,
            "bin_end": 0.4,
            "count": 0
           },
           {
            "bin_start": 0.4,
            "bin_end": 0.5,
            "count": 0
           }
          ]
         }
        },
        {
         "name": "_deepnote_index_column",
         "dtype": "int64"
        }
       ],
       "rows": [
        {
         "mean radius": 17.99,
         "mean texture": 10.38,
         "mean perimeter": 122.8,
         "mean area": 1001,
         "mean smoothness": 0.1184,
         "mean compactness": 0.2776,
         "mean concavity": 0.3001,
         "mean concave points": 0.1471,
         "mean symmetry": 0.2419,
         "mean fractal dimension": 0.07871,
         "radius error": 1.095,
         "texture error": 0.9053,
         "perimeter error": 8.589,
         "area error": 153.4,
         "smoothness error": 0.006399,
         "compactness error": 0.04904,
         "concavity error": 0.05373,
         "concave points error": 0.01587,
         "symmetry error": 0.03003,
         "fractal dimension error": 0.006193,
         "worst radius": 25.38,
         "worst texture": 17.33,
         "worst perimeter": 184.6,
         "worst area": 2019,
         "worst smoothness": 0.1622,
         "worst compactness": 0.6656,
         "worst concavity": 0.7119,
         "worst concave points": 0.2654,
         "worst symmetry": 0.4601,
         "worst fractal dimension": 0.1189,
         "target": 0,
         "_deepnote_index_column": 0
        },
        {
         "mean radius": 20.57,
         "mean texture": 17.77,
         "mean perimeter": 132.9,
         "mean area": 1326,
         "mean smoothness": 0.08474,
         "mean compactness": 0.07864,
         "mean concavity": 0.0869,
         "mean concave points": 0.07017,
         "mean symmetry": 0.1812,
         "mean fractal dimension": 0.05667,
         "radius error": 0.5435,
         "texture error": 0.7339,
         "perimeter error": 3.398,
         "area error": 74.08,
         "smoothness error": 0.005225,
         "compactness error": 0.01308,
         "concavity error": 0.0186,
         "concave points error": 0.0134,
         "symmetry error": 0.01389,
         "fractal dimension error": 0.003532,
         "worst radius": 24.99,
         "worst texture": 23.41,
         "worst perimeter": 158.8,
         "worst area": 1956,
         "worst smoothness": 0.1238,
         "worst compactness": 0.1866,
         "worst concavity": 0.2416,
         "worst concave points": 0.186,
         "worst symmetry": 0.275,
         "worst fractal dimension": 0.08902,
         "target": 0,
         "_deepnote_index_column": 1
        },
        {
         "mean radius": 19.69,
         "mean texture": 21.25,
         "mean perimeter": 130,
         "mean area": 1203,
         "mean smoothness": 0.1096,
         "mean compactness": 0.1599,
         "mean concavity": 0.1974,
         "mean concave points": 0.1279,
         "mean symmetry": 0.2069,
         "mean fractal dimension": 0.05999,
         "radius error": 0.7456,
         "texture error": 0.7869,
         "perimeter error": 4.585,
         "area error": 94.03,
         "smoothness error": 0.00615,
         "compactness error": 0.04006,
         "concavity error": 0.03832,
         "concave points error": 0.02058,
         "symmetry error": 0.0225,
         "fractal dimension error": 0.004571,
         "worst radius": 23.57,
         "worst texture": 25.53,
         "worst perimeter": 152.5,
         "worst area": 1709,
         "worst smoothness": 0.1444,
         "worst compactness": 0.4245,
         "worst concavity": 0.4504,
         "worst concave points": 0.243,
         "worst symmetry": 0.3613,
         "worst fractal dimension": 0.08758,
         "target": 0,
         "_deepnote_index_column": 2
        }
       ]
      },
      "text/plain": "   mean radius  mean texture  mean perimeter  mean area  mean smoothness  \\\n0        17.99         10.38           122.8     1001.0          0.11840   \n1        20.57         17.77           132.9     1326.0          0.08474   \n2        19.69         21.25           130.0     1203.0          0.10960   \n\n   mean compactness  mean concavity  mean concave points  mean symmetry  \\\n0           0.27760          0.3001              0.14710         0.2419   \n1           0.07864          0.0869              0.07017         0.1812   \n2           0.15990          0.1974              0.12790         0.2069   \n\n   mean fractal dimension  ...  worst texture  worst perimeter  worst area  \\\n0                 0.07871  ...          17.33            184.6      2019.0   \n1                 0.05667  ...          23.41            158.8      1956.0   \n2                 0.05999  ...          25.53            152.5      1709.0   \n\n   worst smoothness  worst compactness  worst concavity  worst concave points  \\\n0            0.1622             0.6656           0.7119                0.2654   \n1            0.1238             0.1866           0.2416                0.1860   \n2            0.1444             0.4245           0.4504                0.2430   \n\n   worst symmetry  worst fractal dimension  target  \n0          0.4601                  0.11890       0  \n1          0.2750                  0.08902       0  \n2          0.3613                  0.08758       0  \n\n[3 rows x 31 columns]",
      "text/html": "<div>\n<style scoped>\n    .dataframe tbody tr th:only-of-type {\n        vertical-align: middle;\n    }\n\n    .dataframe tbody tr th {\n        vertical-align: top;\n    }\n\n    .dataframe thead th {\n        text-align: right;\n    }\n</style>\n<table border=\"1\" class=\"dataframe\">\n  <thead>\n    <tr style=\"text-align: right;\">\n      <th></th>\n      <th>mean radius</th>\n      <th>mean texture</th>\n      <th>mean perimeter</th>\n      <th>mean area</th>\n      <th>mean smoothness</th>\n      <th>mean compactness</th>\n      <th>mean concavity</th>\n      <th>mean concave points</th>\n      <th>mean symmetry</th>\n      <th>mean fractal dimension</th>\n      <th>...</th>\n      <th>worst texture</th>\n      <th>worst perimeter</th>\n      <th>worst area</th>\n      <th>worst smoothness</th>\n      <th>worst compactness</th>\n      <th>worst concavity</th>\n      <th>worst concave points</th>\n      <th>worst symmetry</th>\n      <th>worst fractal dimension</th>\n      <th>target</th>\n    </tr>\n  </thead>\n  <tbody>\n    <tr>\n      <th>0</th>\n      <td>17.99</td>\n      <td>10.38</td>\n      <td>122.8</td>\n      <td>1001.0</td>\n      <td>0.11840</td>\n      <td>0.27760</td>\n      <td>0.3001</td>\n      <td>0.14710</td>\n      <td>0.2419</td>\n      <td>0.07871</td>\n      <td>...</td>\n      <td>17.33</td>\n      <td>184.6</td>\n      <td>2019.0</td>\n      <td>0.1622</td>\n      <td>0.6656</td>\n      <td>0.7119</td>\n      <td>0.2654</td>\n      <td>0.4601</td>\n      <td>0.11890</td>\n      <td>0</td>\n    </tr>\n    <tr>\n      <th>1</th>\n      <td>20.57</td>\n      <td>17.77</td>\n      <td>132.9</td>\n      <td>1326.0</td>\n      <td>0.08474</td>\n      <td>0.07864</td>\n      <td>0.0869</td>\n      <td>0.07017</td>\n      <td>0.1812</td>\n      <td>0.05667</td>\n      <td>...</td>\n      <td>23.41</td>\n      <td>158.8</td>\n      <td>1956.0</td>\n      <td>0.1238</td>\n      <td>0.1866</td>\n      <td>0.2416</td>\n      <td>0.1860</td>\n      <td>0.2750</td>\n      <td>0.08902</td>\n      <td>0</td>\n    </tr>\n    <tr>\n      <th>2</th>\n      <td>19.69</td>\n      <td>21.25</td>\n      <td>130.0</td>\n      <td>1203.0</td>\n      <td>0.10960</td>\n      <td>0.15990</td>\n      <td>0.1974</td>\n      <td>0.12790</td>\n      <td>0.2069</td>\n      <td>0.05999</td>\n      <td>...</td>\n      <td>25.53</td>\n      <td>152.5</td>\n      <td>1709.0</td>\n      <td>0.1444</td>\n      <td>0.4245</td>\n      <td>0.4504</td>\n      <td>0.2430</td>\n      <td>0.3613</td>\n      <td>0.08758</td>\n      <td>0</td>\n    </tr>\n  </tbody>\n</table>\n<p>3 rows × 31 columns</p>\n</div>"
     },
     "metadata": {}
    }
   ]
  },
  {
   "cell_type": "markdown",
   "source": "Test your logistical regression! You must get an accuracy of > 80%",
   "metadata": {
    "colab_type": "text",
    "id": "kUZXPX46CUS9",
    "cell_id": "00019-92a01ac8-2487-4e1c-a861-d54f06cd0b4e",
    "owner_user_id": "6532a7c0-ff51-45e1-808a-34efc550d47b",
    "deepnote_cell_type": "markdown",
    "deepnote_cell_height": 52.390625
   }
  },
  {
   "cell_type": "markdown",
   "source": "<a style='text-decoration:none;line-height:16px;display:flex;color:#5B5B62;padding:10px;justify-content:end;' href='https://deepnote.com?utm_source=created-in-deepnote-cell&projectId=85c5176c-5414-4679-aebf-c4b41aad297f' target=\"_blank\">\n<img alt='Created in deepnote.com' style='display:inline;max-height:16px;margin:0px;margin-right:7.5px;' src='data:image/svg+xml;base64,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' > </img>\nCreated in <span style='font-weight:600;margin-left:4px;'>Deepnote</span></a>",
   "metadata": {
    "tags": [],
    "created_in_deepnote_cell": true,
    "deepnote_cell_type": "markdown"
   }
  }
 ],
 "nbformat": 4,
 "nbformat_minor": 0,
 "metadata": {
  "colab": {
   "name": "Regression_Exercises",
   "provenance": []
  },
  "kernelspec": {
   "display_name": "Python 3",
   "language": "python",
   "name": "python3"
  },
  "language_info": {
   "codemirror_mode": {
    "name": "ipython",
    "version": 3
   },
   "file_extension": ".py",
   "mimetype": "text/x-python",
   "name": "python",
   "nbconvert_exporter": "python",
   "pygments_lexer": "ipython3",
   "version": "3.7.3"
  },
  "deepnote_notebook_id": "cd1723ef-a6c7-4925-9bec-d14711299f9c",
  "deepnote": {},
  "deepnote_execution_queue": []
 }
}