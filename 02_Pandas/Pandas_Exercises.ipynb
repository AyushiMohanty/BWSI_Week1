{
 "cells": [
  {
   "cell_type": "markdown",
   "source": "# Pandas Exercises",
   "metadata": {
    "colab_type": "text",
    "id": "bSU6eKZTdMXZ",
    "cell_id": "00000-a1a70b45-4173-41c3-bd0f-1c7334aedbc1",
    "deepnote_cell_type": "markdown",
    "deepnote_cell_height": 82
   }
  },
  {
   "cell_type": "code",
   "metadata": {
    "colab_type": "code",
    "id": "c5ewTg7vdQFm",
    "colab": {},
    "cell_id": "00001-c6d0491e-81bf-48bb-9f7d-2474bd25924c",
    "deepnote_to_be_reexecuted": false,
    "source_hash": "73161b4",
    "execution_start": 1657649831843,
    "execution_millis": 547682,
    "deepnote_cell_type": "code",
    "deepnote_cell_height": 135
   },
   "source": "import pandas as pd\n\nurl = \"https://raw.githubusercontent.com/BeaverWorksMedlytics2020/Data_Public/master/NotebookExampleData/Week1/diabetes.csv\"\nnames = ['preg', 'plas', 'pres', 'skin', 'test', 'mass', 'pedi', 'age', 'class']",
   "execution_count": null,
   "outputs": []
  },
  {
   "cell_type": "markdown",
   "source": "Read in csv above to a pandas dataframe",
   "metadata": {
    "colab_type": "text",
    "id": "QOLgFaSKeShR",
    "cell_id": "00002-042a372d-c00c-4c1f-ac93-787afa44b1e9",
    "deepnote_cell_type": "markdown",
    "deepnote_cell_height": 52.390625
   }
  },
  {
   "cell_type": "code",
   "metadata": {
    "colab_type": "code",
    "id": "Okcb8dnXeX2C",
    "colab": {},
    "cell_id": "00003-3853efa3-180b-4c70-8be9-3a18524779a8",
    "deepnote_to_be_reexecuted": false,
    "source_hash": "39cb0539",
    "execution_start": 1657649831844,
    "execution_millis": 69,
    "deepnote_cell_type": "code",
    "deepnote_cell_height": 99
   },
   "source": "our_names = ['preg', 'plas', 'pres', 'skin', 'test', 'mass', 'pedi', 'age', 'class']\ndf = pd.read_csv('https://raw.githubusercontent.com/BeaverWorksMedlytics2020/Data_Public/master/NotebookExampleData/Week1/diabetes.csv', names=our_names)",
   "execution_count": null,
   "outputs": []
  },
  {
   "cell_type": "markdown",
   "source": "Print out the age and class of the 100th patient",
   "metadata": {
    "colab_type": "text",
    "id": "d4DyOsuoewE2",
    "cell_id": "00004-7ec9296d-24bf-4019-8f5a-c844c6b8cb1a",
    "deepnote_cell_type": "markdown",
    "deepnote_cell_height": 52.390625
   }
  },
  {
   "cell_type": "code",
   "metadata": {
    "colab_type": "code",
    "id": "xZqBsg39eY8_",
    "colab": {},
    "cell_id": "00005-0056ddb4-3287-41f8-834d-5ece93cf6909",
    "deepnote_to_be_reexecuted": false,
    "source_hash": "62df4984",
    "execution_start": 1657649831990,
    "execution_millis": 46,
    "deepnote_cell_type": "code",
    "deepnote_cell_height": 156.578125,
    "deepnote_output_heights": [
     59.578125
    ]
   },
   "source": "df.loc[100, 'age':'class']",
   "execution_count": null,
   "outputs": [
    {
     "output_type": "execute_result",
     "execution_count": 3,
     "data": {
      "text/plain": "age      33.0\nclass     1.0\nName: 100, dtype: float64"
     },
     "metadata": {}
    }
   ]
  },
  {
   "cell_type": "markdown",
   "source": "Write code to figure out how many people are classified as not having diabetes, class is 0",
   "metadata": {
    "colab_type": "text",
    "id": "j8L2EM-5iOWc",
    "cell_id": "00006-82daaf2f-3e31-463a-9b7a-53799ab84fef",
    "deepnote_cell_type": "markdown",
    "deepnote_cell_height": 52.390625
   }
  },
  {
   "cell_type": "code",
   "metadata": {
    "colab_type": "code",
    "id": "vohzS51WiWvD",
    "colab": {},
    "cell_id": "00007-2d900e3b-23a6-403c-9bde-7e09d0510fcd",
    "deepnote_to_be_reexecuted": false,
    "source_hash": "c3c7e120",
    "execution_start": 1657649832036,
    "execution_millis": 45,
    "deepnote_cell_type": "code",
    "deepnote_cell_height": 165.6875
   },
   "source": "df_class_boolean = df['class'] == 0\ndf_class_0 = df[df_class_boolean]\na = len(df_class_0)\nprint(a)",
   "execution_count": null,
   "outputs": [
    {
     "name": "stdout",
     "text": "500\n",
     "output_type": "stream"
    }
   ]
  },
  {
   "cell_type": "markdown",
   "source": "Write code to figure out how many people are classified as having diabetes, class is 1",
   "metadata": {
    "colab_type": "text",
    "id": "ieGRz4iiiX4E",
    "cell_id": "00008-389ce810-0027-4af4-b4bf-a5bdc38c1573",
    "deepnote_cell_type": "markdown",
    "deepnote_cell_height": 52.390625
   }
  },
  {
   "cell_type": "code",
   "metadata": {
    "colab_type": "code",
    "id": "-jq2O-vriXRT",
    "colab": {},
    "cell_id": "00009-5eb55bcc-0b10-4a59-a3de-fad689a23fe1",
    "deepnote_to_be_reexecuted": false,
    "source_hash": "9759646e",
    "execution_start": 1657649832135,
    "execution_millis": 0,
    "owner_user_id": "10a2b549-7636-481a-bcf6-978642d5558f",
    "deepnote_cell_type": "code",
    "deepnote_cell_height": 165.6875
   },
   "source": "df_class_boolean = df['class'] == 1\ndf_class_1 = df[df_class_boolean]\nb = len(df_class_1)\nprint(b)",
   "execution_count": null,
   "outputs": [
    {
     "name": "stdout",
     "text": "268\n",
     "output_type": "stream"
    }
   ]
  },
  {
   "cell_type": "markdown",
   "source": "What percent of people have diabetes in the study",
   "metadata": {
    "colab_type": "text",
    "id": "oeFT7T9OnuSd",
    "cell_id": "00010-31b5f7c6-ea56-457b-ae9c-72ab86c5c567",
    "owner_user_id": "6532a7c0-ff51-45e1-808a-34efc550d47b",
    "deepnote_cell_type": "markdown",
    "deepnote_cell_height": 52.390625
   }
  },
  {
   "cell_type": "code",
   "metadata": {
    "colab_type": "code",
    "id": "zGGHptFYnwq0",
    "colab": {},
    "cell_id": "00011-a33c8893-4cbc-42b5-898d-e3115c13e329",
    "deepnote_to_be_reexecuted": false,
    "source_hash": "5faaa653",
    "execution_start": 1657649832173,
    "execution_millis": 6,
    "deepnote_cell_type": "code",
    "deepnote_cell_height": 147.6875
   },
   "source": "print(f\"{(a/(a+b)) * 100}%\")\n\n",
   "execution_count": null,
   "outputs": [
    {
     "name": "stdout",
     "text": "65.10416666666666%\n",
     "output_type": "stream"
    }
   ]
  },
  {
   "cell_type": "markdown",
   "source": "Print out the `\"pres\"` and `\"class\"` (no other columns) for the first 5 people",
   "metadata": {
    "colab_type": "text",
    "id": "nbrjnRPafs0p",
    "cell_id": "00012-5080ee0d-b515-4ca1-954d-63144b849480",
    "deepnote_cell_type": "markdown",
    "deepnote_cell_height": 52.390625
   }
  },
  {
   "cell_type": "code",
   "metadata": {
    "colab_type": "code",
    "id": "GiNCJ19KfHJQ",
    "colab": {},
    "cell_id": "00013-52905732-b305-424f-98c1-182e4ababc0c",
    "deepnote_to_be_reexecuted": false,
    "source_hash": "9df2fdd0",
    "execution_start": 1657649832174,
    "execution_millis": 547896,
    "deepnote_cell_type": "code",
    "deepnote_cell_height": 210.171875
   },
   "source": "print(df[['pres','class']].head(5))",
   "execution_count": null,
   "outputs": [
    {
     "name": "stdout",
     "text": "   pres  class\n0    72      1\n1    66      0\n2    64      1\n3    66      0\n4    40      1\n",
     "output_type": "stream"
    }
   ]
  },
  {
   "cell_type": "markdown",
   "source": "Run the cell below, it will print out the correlation among the columns",
   "metadata": {
    "colab_type": "text",
    "id": "O-CcsoqlhxUn",
    "cell_id": "00014-f3aad72a-9f72-4fb7-9d82-8d10b502d48a",
    "deepnote_cell_type": "markdown",
    "deepnote_cell_height": 52.390625
   }
  },
  {
   "cell_type": "code",
   "metadata": {
    "colab_type": "code",
    "id": "pXpVFt6MffQt",
    "colab": {},
    "cell_id": "00015-2172a85f-0f52-484b-a29e-5c3e48658917",
    "deepnote_to_be_reexecuted": false,
    "source_hash": "f8453a83",
    "execution_start": 1657649832191,
    "execution_millis": 10,
    "owner_user_id": "01511602-ab38-4317-8a2e-d508b21f0e16",
    "deepnote_cell_type": "code",
    "deepnote_cell_height": 559
   },
   "source": "df.corr()",
   "execution_count": null,
   "outputs": [
    {
     "output_type": "execute_result",
     "execution_count": 8,
     "data": {
      "application/vnd.deepnote.dataframe.v3+json": {
       "column_count": 9,
       "row_count": 9,
       "columns": [
        {
         "name": "preg",
         "dtype": "float64",
         "stats": {
          "unique_count": 9,
          "nan_count": 0,
          "min": "-0.08167177444900726",
          "max": "1.0",
          "histogram": [
           {
            "bin_start": -0.08167177444900726,
            "bin_end": 0.026495402995893452,
            "count": 4
           },
           {
            "bin_start": 0.026495402995893452,
            "bin_end": 0.13466258044079416,
            "count": 1
           },
           {
            "bin_start": 0.13466258044079416,
            "bin_end": 0.24282975788569489,
            "count": 2
           },
           {
            "bin_start": 0.24282975788569489,
            "bin_end": 0.3509969353305956,
            "count": 0
           },
           {
            "bin_start": 0.3509969353305956,
            "bin_end": 0.45916411277549635,
            "count": 0
           },
           {
            "bin_start": 0.45916411277549635,
            "bin_end": 0.567331290220397,
            "count": 1
           },
           {
            "bin_start": 0.567331290220397,
            "bin_end": 0.6754984676652978,
            "count": 0
           },
           {
            "bin_start": 0.6754984676652978,
            "bin_end": 0.7836656451101984,
            "count": 0
           },
           {
            "bin_start": 0.7836656451101984,
            "bin_end": 0.8918328225550991,
            "count": 0
           },
           {
            "bin_start": 0.8918328225550991,
            "bin_end": 1,
            "count": 1
           }
          ]
         }
        },
        {
         "name": "plas",
         "dtype": "float64",
         "stats": {
          "unique_count": 9,
          "nan_count": 0,
          "min": "0.05732789073817692",
          "max": "1.0",
          "histogram": [
           {
            "bin_start": 0.05732789073817692,
            "bin_end": 0.15159510166435924,
            "count": 3
           },
           {
            "bin_start": 0.15159510166435924,
            "bin_end": 0.24586231259054156,
            "count": 2
           },
           {
            "bin_start": 0.24586231259054156,
            "bin_end": 0.3401295235167239,
            "count": 2
           },
           {
            "bin_start": 0.3401295235167239,
            "bin_end": 0.43439673444290616,
            "count": 0
           },
           {
            "bin_start": 0.43439673444290616,
            "bin_end": 0.5286639453690885,
            "count": 1
           },
           {
            "bin_start": 0.5286639453690885,
            "bin_end": 0.6229311562952708,
            "count": 0
           },
           {
            "bin_start": 0.6229311562952708,
            "bin_end": 0.7171983672214531,
            "count": 0
           },
           {
            "bin_start": 0.7171983672214531,
            "bin_end": 0.8114655781476354,
            "count": 0
           },
           {
            "bin_start": 0.8114655781476354,
            "bin_end": 0.9057327890738177,
            "count": 0
           },
           {
            "bin_start": 0.9057327890738177,
            "bin_end": 1,
            "count": 1
           }
          ]
         }
        },
        {
         "name": "pres",
         "dtype": "float64",
         "stats": {
          "unique_count": 9,
          "nan_count": 0,
          "min": "0.04126494793009856",
          "max": "1.0",
          "histogram": [
           {
            "bin_start": 0.04126494793009856,
            "bin_end": 0.1371384531370887,
            "count": 3
           },
           {
            "bin_start": 0.1371384531370887,
            "bin_end": 0.23301195834407884,
            "count": 3
           },
           {
            "bin_start": 0.23301195834407884,
            "bin_end": 0.328885463551069,
            "count": 2
           },
           {
            "bin_start": 0.328885463551069,
            "bin_end": 0.42475896875805913,
            "count": 0
           },
           {
            "bin_start": 0.42475896875805913,
            "bin_end": 0.5206324739650493,
            "count": 0
           },
           {
            "bin_start": 0.5206324739650493,
            "bin_end": 0.6165059791720395,
            "count": 0
           },
           {
            "bin_start": 0.6165059791720395,
            "bin_end": 0.7123794843790296,
            "count": 0
           },
           {
            "bin_start": 0.7123794843790296,
            "bin_end": 0.8082529895860198,
            "count": 0
           },
           {
            "bin_start": 0.8082529895860198,
            "bin_end": 0.9041264947930099,
            "count": 0
           },
           {
            "bin_start": 0.9041264947930099,
            "bin_end": 1,
            "count": 1
           }
          ]
         }
        },
        {
         "name": "skin",
         "dtype": "float64",
         "stats": {
          "unique_count": 9,
          "nan_count": 0,
          "min": "-0.11397026236774152",
          "max": "1.0",
          "histogram": [
           {
            "bin_start": -0.11397026236774152,
            "bin_end": -0.0025732361309673824,
            "count": 2
           },
           {
            "bin_start": -0.0025732361309673824,
            "bin_end": 0.10882379010580676,
            "count": 2
           },
           {
            "bin_start": 0.10882379010580676,
            "bin_end": 0.22022081634258087,
            "count": 2
           },
           {
            "bin_start": 0.22022081634258087,
            "bin_end": 0.331617842579355,
            "count": 0
           },
           {
            "bin_start": 0.331617842579355,
            "bin_end": 0.44301486881612917,
            "count": 2
           },
           {
            "bin_start": 0.44301486881612917,
            "bin_end": 0.5544118950529032,
            "count": 0
           },
           {
            "bin_start": 0.5544118950529032,
            "bin_end": 0.6658089212896774,
            "count": 0
           },
           {
            "bin_start": 0.6658089212896774,
            "bin_end": 0.7772059475264516,
            "count": 0
           },
           {
            "bin_start": 0.7772059475264516,
            "bin_end": 0.8886029737632256,
            "count": 0
           },
           {
            "bin_start": 0.8886029737632256,
            "bin_end": 1,
            "count": 1
           }
          ]
         }
        },
        {
         "name": "test",
         "dtype": "float64",
         "stats": {
          "unique_count": 9,
          "nan_count": 0,
          "min": "-0.07353461435162822",
          "max": "1.0",
          "histogram": [
           {
            "bin_start": -0.07353461435162822,
            "bin_end": 0.033818847083534595,
            "count": 2
           },
           {
            "bin_start": 0.033818847083534595,
            "bin_end": 0.14117230851869741,
            "count": 2
           },
           {
            "bin_start": 0.14117230851869741,
            "bin_end": 0.24852576995386022,
            "count": 2
           },
           {
            "bin_start": 0.24852576995386022,
            "bin_end": 0.35587923138902305,
            "count": 1
           },
           {
            "bin_start": 0.35587923138902305,
            "bin_end": 0.4632326928241859,
            "count": 1
           },
           {
            "bin_start": 0.4632326928241859,
            "bin_end": 0.5705861542593487,
            "count": 0
           },
           {
            "bin_start": 0.5705861542593487,
            "bin_end": 0.6779396156945116,
            "count": 0
           },
           {
            "bin_start": 0.6779396156945116,
            "bin_end": 0.7852930771296743,
            "count": 0
           },
           {
            "bin_start": 0.7852930771296743,
            "bin_end": 0.8926465385648371,
            "count": 0
           },
           {
            "bin_start": 0.8926465385648371,
            "bin_end": 1,
            "count": 1
           }
          ]
         }
        },
        {
         "name": "mass",
         "dtype": "float64",
         "stats": {
          "unique_count": 9,
          "nan_count": 0,
          "min": "0.017683090727830565",
          "max": "1.0",
          "histogram": [
           {
            "bin_start": 0.017683090727830565,
            "bin_end": 0.11591478165504751,
            "count": 2
           },
           {
            "bin_start": 0.11591478165504751,
            "bin_end": 0.21414647258226444,
            "count": 2
           },
           {
            "bin_start": 0.21414647258226444,
            "bin_end": 0.3123781635094814,
            "count": 3
           },
           {
            "bin_start": 0.3123781635094814,
            "bin_end": 0.41060985443669834,
            "count": 1
           },
           {
            "bin_start": 0.41060985443669834,
            "bin_end": 0.5088415453639152,
            "count": 0
           },
           {
            "bin_start": 0.5088415453639152,
            "bin_end": 0.6070732362911322,
            "count": 0
           },
           {
            "bin_start": 0.6070732362911322,
            "bin_end": 0.7053049272183491,
            "count": 0
           },
           {
            "bin_start": 0.7053049272183491,
            "bin_end": 0.8035366181455661,
            "count": 0
           },
           {
            "bin_start": 0.8035366181455661,
            "bin_end": 0.901768309072783,
            "count": 0
           },
           {
            "bin_start": 0.901768309072783,
            "bin_end": 1,
            "count": 1
           }
          ]
         }
        },
        {
         "name": "pedi",
         "dtype": "float64",
         "stats": {
          "unique_count": 9,
          "nan_count": 0,
          "min": "-0.03352267296261304",
          "max": "1.0",
          "histogram": [
           {
            "bin_start": -0.03352267296261304,
            "bin_end": 0.06982959433364827,
            "count": 3
           },
           {
            "bin_start": 0.06982959433364827,
            "bin_end": 0.17318186162990956,
            "count": 2
           },
           {
            "bin_start": 0.17318186162990956,
            "bin_end": 0.2765341289261709,
            "count": 3
           },
           {
            "bin_start": 0.2765341289261709,
            "bin_end": 0.3798863962224322,
            "count": 0
           },
           {
            "bin_start": 0.3798863962224322,
            "bin_end": 0.4832386635186935,
            "count": 0
           },
           {
            "bin_start": 0.4832386635186935,
            "bin_end": 0.5865909308149548,
            "count": 0
           },
           {
            "bin_start": 0.5865909308149548,
            "bin_end": 0.6899431981112161,
            "count": 0
           },
           {
            "bin_start": 0.6899431981112161,
            "bin_end": 0.7932954654074774,
            "count": 0
           },
           {
            "bin_start": 0.7932954654074774,
            "bin_end": 0.8966477327037388,
            "count": 0
           },
           {
            "bin_start": 0.8966477327037388,
            "bin_end": 1,
            "count": 1
           }
          ]
         }
        },
        {
         "name": "age",
         "dtype": "float64",
         "stats": {
          "unique_count": 9,
          "nan_count": 0,
          "min": "-0.11397026236774152",
          "max": "1.0",
          "histogram": [
           {
            "bin_start": -0.11397026236774152,
            "bin_end": -0.0025732361309673824,
            "count": 2
           },
           {
            "bin_start": -0.0025732361309673824,
            "bin_end": 0.10882379010580676,
            "count": 2
           },
           {
            "bin_start": 0.10882379010580676,
            "bin_end": 0.22022081634258087,
            "count": 0
           },
           {
            "bin_start": 0.22022081634258087,
            "bin_end": 0.331617842579355,
            "count": 3
           },
           {
            "bin_start": 0.331617842579355,
            "bin_end": 0.44301486881612917,
            "count": 0
           },
           {
            "bin_start": 0.44301486881612917,
            "bin_end": 0.5544118950529032,
            "count": 1
           },
           {
            "bin_start": 0.5544118950529032,
            "bin_end": 0.6658089212896774,
            "count": 0
           },
           {
            "bin_start": 0.6658089212896774,
            "bin_end": 0.7772059475264516,
            "count": 0
           },
           {
            "bin_start": 0.7772059475264516,
            "bin_end": 0.8886029737632256,
            "count": 0
           },
           {
            "bin_start": 0.8886029737632256,
            "bin_end": 1,
            "count": 1
           }
          ]
         }
        },
        {
         "name": "class",
         "dtype": "float64",
         "stats": {
          "unique_count": 9,
          "nan_count": 0,
          "min": "0.06506835955033277",
          "max": "1.0",
          "histogram": [
           {
            "bin_start": 0.06506835955033277,
            "bin_end": 0.15856152359529951,
            "count": 3
           },
           {
            "bin_start": 0.15856152359529951,
            "bin_end": 0.25205468764026623,
            "count": 3
           },
           {
            "bin_start": 0.25205468764026623,
            "bin_end": 0.34554785168523294,
            "count": 1
           },
           {
            "bin_start": 0.34554785168523294,
            "bin_end": 0.4390410157301997,
            "count": 0
           },
           {
            "bin_start": 0.4390410157301997,
            "bin_end": 0.5325341797751664,
            "count": 1
           },
           {
            "bin_start": 0.5325341797751664,
            "bin_end": 0.6260273438201331,
            "count": 0
           },
           {
            "bin_start": 0.6260273438201331,
            "bin_end": 0.7195205078650998,
            "count": 0
           },
           {
            "bin_start": 0.7195205078650998,
            "bin_end": 0.8130136719100666,
            "count": 0
           },
           {
            "bin_start": 0.8130136719100666,
            "bin_end": 0.9065068359550333,
            "count": 0
           },
           {
            "bin_start": 0.9065068359550333,
            "bin_end": 1,
            "count": 1
           }
          ]
         }
        },
        {
         "name": "_deepnote_index_column",
         "dtype": "object"
        }
       ],
       "rows": [
        {
         "preg": 1,
         "plas": 0.12945867149927248,
         "pres": 0.14128197740713966,
         "skin": -0.08167177444900726,
         "test": -0.07353461435162822,
         "mass": 0.017683090727830565,
         "pedi": -0.03352267296261304,
         "age": 0.5443412284023392,
         "class": 0.22189815303398636,
         "_deepnote_index_column": "preg"
        },
        {
         "preg": 0.12945867149927248,
         "plas": 1,
         "pres": 0.1525895865686646,
         "skin": 0.05732789073817692,
         "test": 0.3313571099202092,
         "mass": 0.2210710694589828,
         "pedi": 0.13733729982837092,
         "age": 0.26351431982433343,
         "class": 0.46658139830687373,
         "_deepnote_index_column": "plas"
        },
        {
         "preg": 0.14128197740713966,
         "plas": 0.1525895865686646,
         "pres": 1,
         "skin": 0.2073705384030709,
         "test": 0.08893337837319314,
         "mass": 0.2818052888499109,
         "pedi": 0.04126494793009856,
         "age": 0.23952794642136344,
         "class": 0.06506835955033277,
         "_deepnote_index_column": "pres"
        },
        {
         "preg": -0.08167177444900726,
         "plas": 0.05732789073817692,
         "pres": 0.2073705384030709,
         "skin": 1,
         "test": 0.43678257012001326,
         "mass": 0.39257320415903835,
         "pedi": 0.1839275729541631,
         "age": -0.11397026236774152,
         "class": 0.07475223191831946,
         "_deepnote_index_column": "skin"
        },
        {
         "preg": -0.07353461435162822,
         "plas": 0.3313571099202092,
         "pres": 0.08893337837319314,
         "skin": 0.43678257012001326,
         "test": 1,
         "mass": 0.19785905649310145,
         "pedi": 0.1850709291680993,
         "age": -0.04216295473537695,
         "class": 0.13054795488404794,
         "_deepnote_index_column": "test"
        },
        {
         "preg": 0.017683090727830565,
         "plas": 0.2210710694589828,
         "pres": 0.2818052888499109,
         "skin": 0.39257320415903835,
         "test": 0.19785905649310145,
         "mass": 1,
         "pedi": 0.14064695254510523,
         "age": 0.03624187009229395,
         "class": 0.2926946626444454,
         "_deepnote_index_column": "mass"
        },
        {
         "preg": -0.03352267296261304,
         "plas": 0.13733729982837092,
         "pres": 0.04126494793009856,
         "skin": 0.1839275729541631,
         "test": 0.1850709291680993,
         "mass": 0.14064695254510523,
         "pedi": 1,
         "age": 0.03356131243480539,
         "class": 0.17384406565296004,
         "_deepnote_index_column": "pedi"
        },
        {
         "preg": 0.5443412284023392,
         "plas": 0.26351431982433343,
         "pres": 0.23952794642136344,
         "skin": -0.11397026236774152,
         "test": -0.04216295473537695,
         "mass": 0.03624187009229395,
         "pedi": 0.03356131243480539,
         "age": 1,
         "class": 0.23835598302719757,
         "_deepnote_index_column": "age"
        },
        {
         "preg": 0.22189815303398636,
         "plas": 0.46658139830687373,
         "pres": 0.06506835955033277,
         "skin": 0.07475223191831946,
         "test": 0.13054795488404794,
         "mass": 0.2926946626444454,
         "pedi": 0.17384406565296004,
         "age": 0.23835598302719757,
         "class": 1,
         "_deepnote_index_column": "class"
        }
       ]
      },
      "text/plain": "           preg      plas      pres      skin      test      mass      pedi  \\\npreg   1.000000  0.129459  0.141282 -0.081672 -0.073535  0.017683 -0.033523   \nplas   0.129459  1.000000  0.152590  0.057328  0.331357  0.221071  0.137337   \npres   0.141282  0.152590  1.000000  0.207371  0.088933  0.281805  0.041265   \nskin  -0.081672  0.057328  0.207371  1.000000  0.436783  0.392573  0.183928   \ntest  -0.073535  0.331357  0.088933  0.436783  1.000000  0.197859  0.185071   \nmass   0.017683  0.221071  0.281805  0.392573  0.197859  1.000000  0.140647   \npedi  -0.033523  0.137337  0.041265  0.183928  0.185071  0.140647  1.000000   \nage    0.544341  0.263514  0.239528 -0.113970 -0.042163  0.036242  0.033561   \nclass  0.221898  0.466581  0.065068  0.074752  0.130548  0.292695  0.173844   \n\n            age     class  \npreg   0.544341  0.221898  \nplas   0.263514  0.466581  \npres   0.239528  0.065068  \nskin  -0.113970  0.074752  \ntest  -0.042163  0.130548  \nmass   0.036242  0.292695  \npedi   0.033561  0.173844  \nage    1.000000  0.238356  \nclass  0.238356  1.000000  ",
      "text/html": "<div>\n<style scoped>\n    .dataframe tbody tr th:only-of-type {\n        vertical-align: middle;\n    }\n\n    .dataframe tbody tr th {\n        vertical-align: top;\n    }\n\n    .dataframe thead th {\n        text-align: right;\n    }\n</style>\n<table border=\"1\" class=\"dataframe\">\n  <thead>\n    <tr style=\"text-align: right;\">\n      <th></th>\n      <th>preg</th>\n      <th>plas</th>\n      <th>pres</th>\n      <th>skin</th>\n      <th>test</th>\n      <th>mass</th>\n      <th>pedi</th>\n      <th>age</th>\n      <th>class</th>\n    </tr>\n  </thead>\n  <tbody>\n    <tr>\n      <th>preg</th>\n      <td>1.000000</td>\n      <td>0.129459</td>\n      <td>0.141282</td>\n      <td>-0.081672</td>\n      <td>-0.073535</td>\n      <td>0.017683</td>\n      <td>-0.033523</td>\n      <td>0.544341</td>\n      <td>0.221898</td>\n    </tr>\n    <tr>\n      <th>plas</th>\n      <td>0.129459</td>\n      <td>1.000000</td>\n      <td>0.152590</td>\n      <td>0.057328</td>\n      <td>0.331357</td>\n      <td>0.221071</td>\n      <td>0.137337</td>\n      <td>0.263514</td>\n      <td>0.466581</td>\n    </tr>\n    <tr>\n      <th>pres</th>\n      <td>0.141282</td>\n      <td>0.152590</td>\n      <td>1.000000</td>\n      <td>0.207371</td>\n      <td>0.088933</td>\n      <td>0.281805</td>\n      <td>0.041265</td>\n      <td>0.239528</td>\n      <td>0.065068</td>\n    </tr>\n    <tr>\n      <th>skin</th>\n      <td>-0.081672</td>\n      <td>0.057328</td>\n      <td>0.207371</td>\n      <td>1.000000</td>\n      <td>0.436783</td>\n      <td>0.392573</td>\n      <td>0.183928</td>\n      <td>-0.113970</td>\n      <td>0.074752</td>\n    </tr>\n    <tr>\n      <th>test</th>\n      <td>-0.073535</td>\n      <td>0.331357</td>\n      <td>0.088933</td>\n      <td>0.436783</td>\n      <td>1.000000</td>\n      <td>0.197859</td>\n      <td>0.185071</td>\n      <td>-0.042163</td>\n      <td>0.130548</td>\n    </tr>\n    <tr>\n      <th>mass</th>\n      <td>0.017683</td>\n      <td>0.221071</td>\n      <td>0.281805</td>\n      <td>0.392573</td>\n      <td>0.197859</td>\n      <td>1.000000</td>\n      <td>0.140647</td>\n      <td>0.036242</td>\n      <td>0.292695</td>\n    </tr>\n    <tr>\n      <th>pedi</th>\n      <td>-0.033523</td>\n      <td>0.137337</td>\n      <td>0.041265</td>\n      <td>0.183928</td>\n      <td>0.185071</td>\n      <td>0.140647</td>\n      <td>1.000000</td>\n      <td>0.033561</td>\n      <td>0.173844</td>\n    </tr>\n    <tr>\n      <th>age</th>\n      <td>0.544341</td>\n      <td>0.263514</td>\n      <td>0.239528</td>\n      <td>-0.113970</td>\n      <td>-0.042163</td>\n      <td>0.036242</td>\n      <td>0.033561</td>\n      <td>1.000000</td>\n      <td>0.238356</td>\n    </tr>\n    <tr>\n      <th>class</th>\n      <td>0.221898</td>\n      <td>0.466581</td>\n      <td>0.065068</td>\n      <td>0.074752</td>\n      <td>0.130548</td>\n      <td>0.292695</td>\n      <td>0.173844</td>\n      <td>0.238356</td>\n      <td>1.000000</td>\n    </tr>\n  </tbody>\n</table>\n</div>"
     },
     "metadata": {}
    }
   ]
  },
  {
   "cell_type": "markdown",
   "source": "What column has the highest correlation with class? Find the mean() value of that column",
   "metadata": {
    "colab_type": "text",
    "id": "P_7xRF11h4Uf",
    "cell_id": "00016-c6dc3dd2-3401-45f6-82f1-9b8d3db94077",
    "deepnote_cell_type": "markdown",
    "deepnote_cell_height": 52.390625
   }
  },
  {
   "cell_type": "code",
   "metadata": {
    "colab_type": "code",
    "id": "clb2Gh8Mn9d4",
    "colab": {},
    "cell_id": "00017-b1dcf134-97de-42fa-ac10-96fe97db8e2c",
    "deepnote_to_be_reexecuted": false,
    "source_hash": "b66fdc33",
    "execution_start": 1657649832246,
    "execution_millis": 547873,
    "deepnote_cell_type": "code",
    "deepnote_cell_height": 118.1875,
    "deepnote_output_heights": [
     21.1875
    ]
   },
   "source": "df.plas.mean()",
   "execution_count": null,
   "outputs": [
    {
     "output_type": "execute_result",
     "execution_count": 9,
     "data": {
      "text/plain": "120.89453125"
     },
     "metadata": {}
    }
   ]
  },
  {
   "cell_type": "markdown",
   "source": "Create a new dataframe with only people that are above the mean found in the above cell.",
   "metadata": {
    "colab_type": "text",
    "id": "64yWhAARoWw-",
    "cell_id": "00018-fd63fcb2-c10a-4a26-b428-e30348fe833a",
    "deepnote_cell_type": "markdown",
    "deepnote_cell_height": 52.390625
   }
  },
  {
   "cell_type": "code",
   "metadata": {
    "colab_type": "code",
    "id": "HRLjs3agkdPY",
    "colab": {},
    "cell_id": "00019-8b938a90-7bd5-4ba2-92f1-4df4ffc190e0",
    "deepnote_to_be_reexecuted": false,
    "source_hash": "427c6855",
    "execution_start": 1657649832247,
    "execution_millis": 4,
    "deepnote_cell_type": "code",
    "deepnote_cell_height": 99
   },
   "source": "above = df['plas'] > df.plas.mean()\ndf_above = df[above]",
   "execution_count": null,
   "outputs": []
  },
  {
   "cell_type": "markdown",
   "source": "Create a new dataframe that only includes people who are above the average value for each column in the dataset. In other words, find the average value for each column, and then find which users have values above all of these average column values.",
   "metadata": {
    "colab_type": "text",
    "id": "RxGIQp0JrUnq",
    "cell_id": "00020-d5d0c3ea-9655-4aa2-97dd-4bf3a09e357f",
    "deepnote_cell_type": "markdown",
    "deepnote_cell_height": 74.796875
   }
  },
  {
   "cell_type": "code",
   "metadata": {
    "colab_type": "code",
    "id": "Ylf4p6NNrfME",
    "colab": {},
    "cell_id": "00021-064e8e41-d624-434c-a65a-392e463c840e",
    "deepnote_to_be_reexecuted": false,
    "source_hash": "fbfc8e90",
    "execution_start": 1657650479777,
    "execution_millis": 86,
    "owner_user_id": "9dcaf297-9988-4918-b39b-ac5975acf0de",
    "deepnote_cell_type": "code",
    "deepnote_cell_height": 1085.125
   },
   "source": "df_above = df\nfor i in our_names:\n    df[i].mean()\n    above = df[i] > df[i].mean()\n    df_above = df_above[above]\n\ndf_above\n\n   ",
   "execution_count": null,
   "outputs": [
    {
     "name": "stderr",
     "text": "<ipython-input-15-fe9ad37f9b85>:5: UserWarning: Boolean Series key will be reindexed to match DataFrame index.\n  df_above = df_above[above]\n<ipython-input-15-fe9ad37f9b85>:5: UserWarning: Boolean Series key will be reindexed to match DataFrame index.\n  df_above = df_above[above]\n<ipython-input-15-fe9ad37f9b85>:5: UserWarning: Boolean Series key will be reindexed to match DataFrame index.\n  df_above = df_above[above]\n<ipython-input-15-fe9ad37f9b85>:5: UserWarning: Boolean Series key will be reindexed to match DataFrame index.\n  df_above = df_above[above]\n<ipython-input-15-fe9ad37f9b85>:5: UserWarning: Boolean Series key will be reindexed to match DataFrame index.\n  df_above = df_above[above]\n<ipython-input-15-fe9ad37f9b85>:5: UserWarning: Boolean Series key will be reindexed to match DataFrame index.\n  df_above = df_above[above]\n<ipython-input-15-fe9ad37f9b85>:5: UserWarning: Boolean Series key will be reindexed to match DataFrame index.\n  df_above = df_above[above]\n<ipython-input-15-fe9ad37f9b85>:5: UserWarning: Boolean Series key will be reindexed to match DataFrame index.\n  df_above = df_above[above]\n",
     "output_type": "stream"
    },
    {
     "output_type": "execute_result",
     "execution_count": 15,
     "data": {
      "application/vnd.deepnote.dataframe.v3+json": {
       "column_count": 9,
       "row_count": 16,
       "columns": [
        {
         "name": "preg",
         "dtype": "int64",
         "stats": {
          "unique_count": 8,
          "nan_count": 0,
          "min": "5",
          "max": "17",
          "histogram": [
           {
            "bin_start": 5,
            "bin_end": 6.2,
            "count": 1
           },
           {
            "bin_start": 6.2,
            "bin_end": 7.4,
            "count": 3
           },
           {
            "bin_start": 7.4,
            "bin_end": 8.6,
            "count": 3
           },
           {
            "bin_start": 8.6,
            "bin_end": 9.8,
            "count": 3
           },
           {
            "bin_start": 9.8,
            "bin_end": 11,
            "count": 1
           },
           {
            "bin_start": 11,
            "bin_end": 12.2,
            "count": 4
           },
           {
            "bin_start": 12.2,
            "bin_end": 13.4,
            "count": 0
           },
           {
            "bin_start": 13.4,
            "bin_end": 14.6,
            "count": 0
           },
           {
            "bin_start": 14.6,
            "bin_end": 15.799999999999999,
            "count": 0
           },
           {
            "bin_start": 15.799999999999999,
            "bin_end": 17,
            "count": 1
           }
          ]
         }
        },
        {
         "name": "plas",
         "dtype": "int64",
         "stats": {
          "unique_count": 15,
          "nan_count": 0,
          "min": "138",
          "max": "196",
          "histogram": [
           {
            "bin_start": 138,
            "bin_end": 143.8,
            "count": 2
           },
           {
            "bin_start": 143.8,
            "bin_end": 149.6,
            "count": 2
           },
           {
            "bin_start": 149.6,
            "bin_end": 155.4,
            "count": 4
           },
           {
            "bin_start": 155.4,
            "bin_end": 161.2,
            "count": 1
           },
           {
            "bin_start": 161.2,
            "bin_end": 167,
            "count": 1
           },
           {
            "bin_start": 167,
            "bin_end": 172.8,
            "count": 2
           },
           {
            "bin_start": 172.8,
            "bin_end": 178.6,
            "count": 0
           },
           {
            "bin_start": 178.6,
            "bin_end": 184.4,
            "count": 2
           },
           {
            "bin_start": 184.4,
            "bin_end": 190.2,
            "count": 1
           },
           {
            "bin_start": 190.2,
            "bin_end": 196,
            "count": 1
           }
          ]
         }
        },
        {
         "name": "pres",
         "dtype": "int64",
         "stats": {
          "unique_count": 11,
          "nan_count": 0,
          "min": "70",
          "max": "110",
          "histogram": [
           {
            "bin_start": 70,
            "bin_end": 74,
            "count": 3
           },
           {
            "bin_start": 74,
            "bin_end": 78,
            "count": 4
           },
           {
            "bin_start": 78,
            "bin_end": 82,
            "count": 3
           },
           {
            "bin_start": 82,
            "bin_end": 86,
            "count": 3
           },
           {
            "bin_start": 86,
            "bin_end": 90,
            "count": 2
           },
           {
            "bin_start": 90,
            "bin_end": 94,
            "count": 0
           },
           {
            "bin_start": 94,
            "bin_end": 98,
            "count": 0
           },
           {
            "bin_start": 98,
            "bin_end": 102,
            "count": 0
           },
           {
            "bin_start": 102,
            "bin_end": 106,
            "count": 0
           },
           {
            "bin_start": 106,
            "bin_end": 110,
            "count": 1
           }
          ]
         }
        },
        {
         "name": "skin",
         "dtype": "int64",
         "stats": {
          "unique_count": 13,
          "nan_count": 0,
          "min": "21",
          "max": "48",
          "histogram": [
           {
            "bin_start": 21,
            "bin_end": 23.7,
            "count": 1
           },
           {
            "bin_start": 23.7,
            "bin_end": 26.4,
            "count": 2
           },
           {
            "bin_start": 26.4,
            "bin_end": 29.1,
            "count": 5
           },
           {
            "bin_start": 29.1,
            "bin_end": 31.8,
            "count": 0
           },
           {
            "bin_start": 31.8,
            "bin_end": 34.5,
            "count": 1
           },
           {
            "bin_start": 34.5,
            "bin_end": 37.2,
            "count": 0
           },
           {
            "bin_start": 37.2,
            "bin_end": 39.900000000000006,
            "count": 0
           },
           {
            "bin_start": 39.900000000000006,
            "bin_end": 42.6,
            "count": 4
           },
           {
            "bin_start": 42.6,
            "bin_end": 45.3,
            "count": 1
           },
           {
            "bin_start": 45.3,
            "bin_end": 48,
            "count": 2
           }
          ]
         }
        },
        {
         "name": "test",
         "dtype": "int64",
         "stats": {
          "unique_count": 15,
          "nan_count": 0,
          "min": "114",
          "max": "325",
          "histogram": [
           {
            "bin_start": 114,
            "bin_end": 135.1,
            "count": 4
           },
           {
            "bin_start": 135.1,
            "bin_end": 156.2,
            "count": 3
           },
           {
            "bin_start": 156.2,
            "bin_end": 177.3,
            "count": 0
           },
           {
            "bin_start": 177.3,
            "bin_end": 198.4,
            "count": 1
           },
           {
            "bin_start": 198.4,
            "bin_end": 219.5,
            "count": 2
           },
           {
            "bin_start": 219.5,
            "bin_end": 240.60000000000002,
            "count": 2
           },
           {
            "bin_start": 240.60000000000002,
            "bin_end": 261.70000000000005,
            "count": 0
           },
           {
            "bin_start": 261.70000000000005,
            "bin_end": 282.8,
            "count": 2
           },
           {
            "bin_start": 282.8,
            "bin_end": 303.9,
            "count": 0
           },
           {
            "bin_start": 303.9,
            "bin_end": 325,
            "count": 2
           }
          ]
         }
        },
        {
         "name": "mass",
         "dtype": "float64",
         "stats": {
          "unique_count": 16,
          "nan_count": 0,
          "min": "32.7",
          "max": "45.4",
          "histogram": [
           {
            "bin_start": 32.7,
            "bin_end": 33.97,
            "count": 2
           },
           {
            "bin_start": 33.97,
            "bin_end": 35.24,
            "count": 2
           },
           {
            "bin_start": 35.24,
            "bin_end": 36.510000000000005,
            "count": 2
           },
           {
            "bin_start": 36.510000000000005,
            "bin_end": 37.78,
            "count": 2
           },
           {
            "bin_start": 37.78,
            "bin_end": 39.05,
            "count": 2
           },
           {
            "bin_start": 39.05,
            "bin_end": 40.32,
            "count": 1
           },
           {
            "bin_start": 40.32,
            "bin_end": 41.59,
            "count": 1
           },
           {
            "bin_start": 41.59,
            "bin_end": 42.86,
            "count": 1
           },
           {
            "bin_start": 42.86,
            "bin_end": 44.129999999999995,
            "count": 2
           },
           {
            "bin_start": 44.129999999999995,
            "bin_end": 45.4,
            "count": 1
           }
          ]
         }
        },
        {
         "name": "pedi",
         "dtype": "float64",
         "stats": {
          "unique_count": 16,
          "nan_count": 0,
          "min": "0.516",
          "max": "1.353",
          "histogram": [
           {
            "bin_start": 0.516,
            "bin_end": 0.5997,
            "count": 4
           },
           {
            "bin_start": 0.5997,
            "bin_end": 0.6834,
            "count": 2
           },
           {
            "bin_start": 0.6834,
            "bin_end": 0.7671,
            "count": 4
           },
           {
            "bin_start": 0.7671,
            "bin_end": 0.8508,
            "count": 2
           },
           {
            "bin_start": 0.8508,
            "bin_end": 0.9345,
            "count": 0
           },
           {
            "bin_start": 0.9345,
            "bin_end": 1.0182,
            "count": 1
           },
           {
            "bin_start": 1.0182,
            "bin_end": 1.1019,
            "count": 1
           },
           {
            "bin_start": 1.1019,
            "bin_end": 1.1856,
            "count": 0
           },
           {
            "bin_start": 1.1856,
            "bin_end": 1.2692999999999999,
            "count": 1
           },
           {
            "bin_start": 1.2692999999999999,
            "bin_end": 1.353,
            "count": 1
           }
          ]
         }
        },
        {
         "name": "age",
         "dtype": "int64",
         "stats": {
          "unique_count": 11,
          "nan_count": 0,
          "min": "36",
          "max": "58",
          "histogram": [
           {
            "bin_start": 36,
            "bin_end": 38.2,
            "count": 3
           },
           {
            "bin_start": 38.2,
            "bin_end": 40.4,
            "count": 2
           },
           {
            "bin_start": 40.4,
            "bin_end": 42.6,
            "count": 1
           },
           {
            "bin_start": 42.6,
            "bin_end": 44.8,
            "count": 0
           },
           {
            "bin_start": 44.8,
            "bin_end": 47,
            "count": 0
           },
           {
            "bin_start": 47,
            "bin_end": 49.2,
            "count": 1
           },
           {
            "bin_start": 49.2,
            "bin_end": 51.400000000000006,
            "count": 4
           },
           {
            "bin_start": 51.400000000000006,
            "bin_end": 53.6,
            "count": 1
           },
           {
            "bin_start": 53.6,
            "bin_end": 55.8,
            "count": 2
           },
           {
            "bin_start": 55.8,
            "bin_end": 58,
            "count": 2
           }
          ]
         }
        },
        {
         "name": "class",
         "dtype": "int64",
         "stats": {
          "unique_count": 1,
          "nan_count": 0,
          "min": "1",
          "max": "1",
          "histogram": [
           {
            "bin_start": 0.5,
            "bin_end": 0.6,
            "count": 0
           },
           {
            "bin_start": 0.6,
            "bin_end": 0.7,
            "count": 0
           },
           {
            "bin_start": 0.7,
            "bin_end": 0.8,
            "count": 0
           },
           {
            "bin_start": 0.8,
            "bin_end": 0.9,
            "count": 0
           },
           {
            "bin_start": 0.9,
            "bin_end": 1,
            "count": 0
           },
           {
            "bin_start": 1,
            "bin_end": 1.1,
            "count": 16
           },
           {
            "bin_start": 1.1,
            "bin_end": 1.2000000000000002,
            "count": 0
           },
           {
            "bin_start": 1.2000000000000002,
            "bin_end": 1.3,
            "count": 0
           },
           {
            "bin_start": 1.3,
            "bin_end": 1.4,
            "count": 0
           },
           {
            "bin_start": 1.4,
            "bin_end": 1.5,
            "count": 0
           }
          ]
         }
        },
        {
         "name": "_deepnote_index_column",
         "dtype": "int64"
        }
       ],
       "rows": [
        {
         "preg": 9,
         "plas": 171,
         "pres": 110,
         "skin": 24,
         "test": 240,
         "mass": 45.4,
         "pedi": 0.721,
         "age": 54,
         "class": 1,
         "_deepnote_index_column": 43
        },
        {
         "preg": 9,
         "plas": 156,
         "pres": 86,
         "skin": 28,
         "test": 155,
         "mass": 34.3,
         "pedi": 1.189,
         "age": 42,
         "class": 1,
         "_deepnote_index_column": 152
        },
        {
         "preg": 17,
         "plas": 163,
         "pres": 72,
         "skin": 41,
         "test": 114,
         "mass": 40.9,
         "pedi": 0.817,
         "age": 47,
         "class": 1,
         "_deepnote_index_column": 159
        },
        {
         "preg": 8,
         "plas": 179,
         "pres": 72,
         "skin": 42,
         "test": 130,
         "mass": 32.7,
         "pedi": 0.719,
         "age": 36,
         "class": 1,
         "_deepnote_index_column": 175
        },
        {
         "preg": 8,
         "plas": 196,
         "pres": 76,
         "skin": 29,
         "test": 280,
         "mass": 37.5,
         "pedi": 0.605,
         "age": 57,
         "class": 1,
         "_deepnote_index_column": 206
        },
        {
         "preg": 12,
         "plas": 151,
         "pres": 70,
         "skin": 40,
         "test": 271,
         "mass": 41.8,
         "pedi": 0.742,
         "age": 38,
         "class": 1,
         "_deepnote_index_column": 215
        },
        {
         "preg": 7,
         "plas": 181,
         "pres": 84,
         "skin": 21,
         "test": 192,
         "mass": 35.9,
         "pedi": 0.586,
         "age": 51,
         "class": 1,
         "_deepnote_index_column": 236
        },
        {
         "preg": 11,
         "plas": 155,
         "pres": 76,
         "skin": 28,
         "test": 150,
         "mass": 33.3,
         "pedi": 1.353,
         "age": 51,
         "class": 1,
         "_deepnote_index_column": 259
        },
        {
         "preg": 12,
         "plas": 140,
         "pres": 82,
         "skin": 43,
         "test": 325,
         "mass": 39.2,
         "pedi": 0.528,
         "age": 58,
         "class": 1,
         "_deepnote_index_column": 375
        },
        {
         "preg": 8,
         "plas": 151,
         "pres": 78,
         "skin": 32,
         "test": 210,
         "mass": 42.9,
         "pedi": 0.516,
         "age": 36,
         "class": 1,
         "_deepnote_index_column": 424
        }
       ]
      },
      "text/plain": "     preg  plas  pres  skin  test  mass   pedi  age  class\n43      9   171   110    24   240  45.4  0.721   54      1\n152     9   156    86    28   155  34.3  1.189   42      1\n159    17   163    72    41   114  40.9  0.817   47      1\n175     8   179    72    42   130  32.7  0.719   36      1\n206     8   196    76    29   280  37.5  0.605   57      1\n215    12   151    70    40   271  41.8  0.742   38      1\n236     7   181    84    21   192  35.9  0.586   51      1\n259    11   155    76    28   150  33.3  1.353   51      1\n375    12   140    82    43   325  39.2  0.528   58      1\n424     8   151    78    32   210  42.9  0.516   36      1\n458    10   148    84    48   237  37.6  1.001   51      1\n546     5   187    76    27   207  43.6  1.034   53      1\n603     7   150    78    29   126  35.2  0.692   54      1\n612     7   168    88    42   321  38.2  0.787   40      1\n614    11   138    74    26   144  36.1  0.557   50      1\n663     9   145    80    46   130  37.9  0.637   40      1",
      "text/html": "<div>\n<style scoped>\n    .dataframe tbody tr th:only-of-type {\n        vertical-align: middle;\n    }\n\n    .dataframe tbody tr th {\n        vertical-align: top;\n    }\n\n    .dataframe thead th {\n        text-align: right;\n    }\n</style>\n<table border=\"1\" class=\"dataframe\">\n  <thead>\n    <tr style=\"text-align: right;\">\n      <th></th>\n      <th>preg</th>\n      <th>plas</th>\n      <th>pres</th>\n      <th>skin</th>\n      <th>test</th>\n      <th>mass</th>\n      <th>pedi</th>\n      <th>age</th>\n      <th>class</th>\n    </tr>\n  </thead>\n  <tbody>\n    <tr>\n      <th>43</th>\n      <td>9</td>\n      <td>171</td>\n      <td>110</td>\n      <td>24</td>\n      <td>240</td>\n      <td>45.4</td>\n      <td>0.721</td>\n      <td>54</td>\n      <td>1</td>\n    </tr>\n    <tr>\n      <th>152</th>\n      <td>9</td>\n      <td>156</td>\n      <td>86</td>\n      <td>28</td>\n      <td>155</td>\n      <td>34.3</td>\n      <td>1.189</td>\n      <td>42</td>\n      <td>1</td>\n    </tr>\n    <tr>\n      <th>159</th>\n      <td>17</td>\n      <td>163</td>\n      <td>72</td>\n      <td>41</td>\n      <td>114</td>\n      <td>40.9</td>\n      <td>0.817</td>\n      <td>47</td>\n      <td>1</td>\n    </tr>\n    <tr>\n      <th>175</th>\n      <td>8</td>\n      <td>179</td>\n      <td>72</td>\n      <td>42</td>\n      <td>130</td>\n      <td>32.7</td>\n      <td>0.719</td>\n      <td>36</td>\n      <td>1</td>\n    </tr>\n    <tr>\n      <th>206</th>\n      <td>8</td>\n      <td>196</td>\n      <td>76</td>\n      <td>29</td>\n      <td>280</td>\n      <td>37.5</td>\n      <td>0.605</td>\n      <td>57</td>\n      <td>1</td>\n    </tr>\n    <tr>\n      <th>215</th>\n      <td>12</td>\n      <td>151</td>\n      <td>70</td>\n      <td>40</td>\n      <td>271</td>\n      <td>41.8</td>\n      <td>0.742</td>\n      <td>38</td>\n      <td>1</td>\n    </tr>\n    <tr>\n      <th>236</th>\n      <td>7</td>\n      <td>181</td>\n      <td>84</td>\n      <td>21</td>\n      <td>192</td>\n      <td>35.9</td>\n      <td>0.586</td>\n      <td>51</td>\n      <td>1</td>\n    </tr>\n    <tr>\n      <th>259</th>\n      <td>11</td>\n      <td>155</td>\n      <td>76</td>\n      <td>28</td>\n      <td>150</td>\n      <td>33.3</td>\n      <td>1.353</td>\n      <td>51</td>\n      <td>1</td>\n    </tr>\n    <tr>\n      <th>375</th>\n      <td>12</td>\n      <td>140</td>\n      <td>82</td>\n      <td>43</td>\n      <td>325</td>\n      <td>39.2</td>\n      <td>0.528</td>\n      <td>58</td>\n      <td>1</td>\n    </tr>\n    <tr>\n      <th>424</th>\n      <td>8</td>\n      <td>151</td>\n      <td>78</td>\n      <td>32</td>\n      <td>210</td>\n      <td>42.9</td>\n      <td>0.516</td>\n      <td>36</td>\n      <td>1</td>\n    </tr>\n    <tr>\n      <th>458</th>\n      <td>10</td>\n      <td>148</td>\n      <td>84</td>\n      <td>48</td>\n      <td>237</td>\n      <td>37.6</td>\n      <td>1.001</td>\n      <td>51</td>\n      <td>1</td>\n    </tr>\n    <tr>\n      <th>546</th>\n      <td>5</td>\n      <td>187</td>\n      <td>76</td>\n      <td>27</td>\n      <td>207</td>\n      <td>43.6</td>\n      <td>1.034</td>\n      <td>53</td>\n      <td>1</td>\n    </tr>\n    <tr>\n      <th>603</th>\n      <td>7</td>\n      <td>150</td>\n      <td>78</td>\n      <td>29</td>\n      <td>126</td>\n      <td>35.2</td>\n      <td>0.692</td>\n      <td>54</td>\n      <td>1</td>\n    </tr>\n    <tr>\n      <th>612</th>\n      <td>7</td>\n      <td>168</td>\n      <td>88</td>\n      <td>42</td>\n      <td>321</td>\n      <td>38.2</td>\n      <td>0.787</td>\n      <td>40</td>\n      <td>1</td>\n    </tr>\n    <tr>\n      <th>614</th>\n      <td>11</td>\n      <td>138</td>\n      <td>74</td>\n      <td>26</td>\n      <td>144</td>\n      <td>36.1</td>\n      <td>0.557</td>\n      <td>50</td>\n      <td>1</td>\n    </tr>\n    <tr>\n      <th>663</th>\n      <td>9</td>\n      <td>145</td>\n      <td>80</td>\n      <td>46</td>\n      <td>130</td>\n      <td>37.9</td>\n      <td>0.637</td>\n      <td>40</td>\n      <td>1</td>\n    </tr>\n  </tbody>\n</table>\n</div>"
     },
     "metadata": {}
    }
   ]
  },
  {
   "cell_type": "markdown",
   "source": "*Note: the next 3 problems were not explicitly shown in our tutorial—being able to effectively google and look through documentation is a very important coding tool!* ¯\\\\\\_(ツ)_/¯",
   "metadata": {
    "id": "Cy_6ce7_8qAB",
    "colab_type": "text",
    "cell_id": "00022-a1b28b03-6953-469c-a45d-80d21b3d36f6",
    "deepnote_cell_type": "markdown",
    "deepnote_cell_height": 74.796875
   }
  },
  {
   "cell_type": "markdown",
   "source": "Ignoring the index (resetting the index to 0) and using the dataframe from the cell above, sort the values based on `\"skin\"`, `\"test\"`, and `\"pedi\"` values in ascending order. Please write this in one line.",
   "metadata": {
    "colab_type": "text",
    "id": "24pCgP2xbCwZ",
    "cell_id": "00023-818ed759-16d8-4469-8fcb-19c412faa4c9",
    "deepnote_cell_type": "markdown",
    "deepnote_cell_height": 74.796875
   }
  },
  {
   "cell_type": "code",
   "metadata": {
    "colab_type": "code",
    "id": "wXZysbVwa7i5",
    "colab": {},
    "cell_id": "00024-1c8fa3ef-1628-44ef-bef7-554c548fea45",
    "deepnote_to_be_reexecuted": false,
    "source_hash": "c547d7f9",
    "execution_start": 1657650524084,
    "execution_millis": 86,
    "owner_user_id": "c8be63ec-db47-43cb-a249-a954ea3fe36c",
    "deepnote_cell_type": "code",
    "deepnote_cell_height": 600
   },
   "source": "df.sort_values(by=[\"skin\",\"test\",\"pedi\"], ascending=True)",
   "execution_count": null,
   "outputs": [
    {
     "output_type": "execute_result",
     "execution_count": 16,
     "data": {
      "application/vnd.deepnote.dataframe.v3+json": {
       "column_count": 9,
       "row_count": 768,
       "columns": [
        {
         "name": "preg",
         "dtype": "int64",
         "stats": {
          "unique_count": 17,
          "nan_count": 0,
          "min": "0",
          "max": "17",
          "histogram": [
           {
            "bin_start": 0,
            "bin_end": 1.7,
            "count": 246
           },
           {
            "bin_start": 1.7,
            "bin_end": 3.4,
            "count": 178
           },
           {
            "bin_start": 3.4,
            "bin_end": 5.1,
            "count": 125
           },
           {
            "bin_start": 5.1,
            "bin_end": 6.8,
            "count": 50
           },
           {
            "bin_start": 6.8,
            "bin_end": 8.5,
            "count": 83
           },
           {
            "bin_start": 8.5,
            "bin_end": 10.2,
            "count": 52
           },
           {
            "bin_start": 10.2,
            "bin_end": 11.9,
            "count": 11
           },
           {
            "bin_start": 11.9,
            "bin_end": 13.6,
            "count": 19
           },
           {
            "bin_start": 13.6,
            "bin_end": 15.299999999999999,
            "count": 3
           },
           {
            "bin_start": 15.299999999999999,
            "bin_end": 17,
            "count": 1
           }
          ]
         }
        },
        {
         "name": "plas",
         "dtype": "int64",
         "stats": {
          "unique_count": 136,
          "nan_count": 0,
          "min": "0",
          "max": "199",
          "histogram": [
           {
            "bin_start": 0,
            "bin_end": 19.9,
            "count": 5
           },
           {
            "bin_start": 19.9,
            "bin_end": 39.8,
            "count": 0
           },
           {
            "bin_start": 39.8,
            "bin_end": 59.699999999999996,
            "count": 4
           },
           {
            "bin_start": 59.699999999999996,
            "bin_end": 79.6,
            "count": 32
           },
           {
            "bin_start": 79.6,
            "bin_end": 99.5,
            "count": 156
           },
           {
            "bin_start": 99.5,
            "bin_end": 119.39999999999999,
            "count": 211
           },
           {
            "bin_start": 119.39999999999999,
            "bin_end": 139.29999999999998,
            "count": 163
           },
           {
            "bin_start": 139.29999999999998,
            "bin_end": 159.2,
            "count": 95
           },
           {
            "bin_start": 159.2,
            "bin_end": 179.1,
            "count": 56
           },
           {
            "bin_start": 179.1,
            "bin_end": 199,
            "count": 46
           }
          ]
         }
        },
        {
         "name": "pres",
         "dtype": "int64",
         "stats": {
          "unique_count": 47,
          "nan_count": 0,
          "min": "0",
          "max": "122",
          "histogram": [
           {
            "bin_start": 0,
            "bin_end": 12.2,
            "count": 35
           },
           {
            "bin_start": 12.2,
            "bin_end": 24.4,
            "count": 1
           },
           {
            "bin_start": 24.4,
            "bin_end": 36.599999999999994,
            "count": 2
           },
           {
            "bin_start": 36.599999999999994,
            "bin_end": 48.8,
            "count": 13
           },
           {
            "bin_start": 48.8,
            "bin_end": 61,
            "count": 107
           },
           {
            "bin_start": 61,
            "bin_end": 73.19999999999999,
            "count": 261
           },
           {
            "bin_start": 73.19999999999999,
            "bin_end": 85.39999999999999,
            "count": 243
           },
           {
            "bin_start": 85.39999999999999,
            "bin_end": 97.6,
            "count": 87
           },
           {
            "bin_start": 97.6,
            "bin_end": 109.8,
            "count": 14
           },
           {
            "bin_start": 109.8,
            "bin_end": 122,
            "count": 5
           }
          ]
         }
        },
        {
         "name": "skin",
         "dtype": "int64",
         "stats": {
          "unique_count": 51,
          "nan_count": 0,
          "min": "0",
          "max": "99",
          "histogram": [
           {
            "bin_start": 0,
            "bin_end": 9.9,
            "count": 231
           },
           {
            "bin_start": 9.9,
            "bin_end": 19.8,
            "count": 107
           },
           {
            "bin_start": 19.8,
            "bin_end": 29.700000000000003,
            "count": 165
           },
           {
            "bin_start": 29.700000000000003,
            "bin_end": 39.6,
            "count": 175
           },
           {
            "bin_start": 39.6,
            "bin_end": 49.5,
            "count": 78
           },
           {
            "bin_start": 49.5,
            "bin_end": 59.400000000000006,
            "count": 9
           },
           {
            "bin_start": 59.400000000000006,
            "bin_end": 69.3,
            "count": 2
           },
           {
            "bin_start": 69.3,
            "bin_end": 79.2,
            "count": 0
           },
           {
            "bin_start": 79.2,
            "bin_end": 89.10000000000001,
            "count": 0
           },
           {
            "bin_start": 89.10000000000001,
            "bin_end": 99,
            "count": 1
           }
          ]
         }
        },
        {
         "name": "test",
         "dtype": "int64",
         "stats": {
          "unique_count": 186,
          "nan_count": 0,
          "min": "0",
          "max": "846",
          "histogram": [
           {
            "bin_start": 0,
            "bin_end": 84.6,
            "count": 487
           },
           {
            "bin_start": 84.6,
            "bin_end": 169.2,
            "count": 155
           },
           {
            "bin_start": 169.2,
            "bin_end": 253.79999999999998,
            "count": 70
           },
           {
            "bin_start": 253.79999999999998,
            "bin_end": 338.4,
            "count": 30
           },
           {
            "bin_start": 338.4,
            "bin_end": 423,
            "count": 8
           },
           {
            "bin_start": 423,
            "bin_end": 507.59999999999997,
            "count": 9
           },
           {
            "bin_start": 507.59999999999997,
            "bin_end": 592.1999999999999,
            "count": 5
           },
           {
            "bin_start": 592.1999999999999,
            "bin_end": 676.8,
            "count": 1
           },
           {
            "bin_start": 676.8,
            "bin_end": 761.4,
            "count": 2
           },
           {
            "bin_start": 761.4,
            "bin_end": 846,
            "count": 1
           }
          ]
         }
        },
        {
         "name": "mass",
         "dtype": "float64",
         "stats": {
          "unique_count": 248,
          "nan_count": 0,
          "min": "0.0",
          "max": "67.1",
          "histogram": [
           {
            "bin_start": 0,
            "bin_end": 6.709999999999999,
            "count": 11
           },
           {
            "bin_start": 6.709999999999999,
            "bin_end": 13.419999999999998,
            "count": 0
           },
           {
            "bin_start": 13.419999999999998,
            "bin_end": 20.129999999999995,
            "count": 15
           },
           {
            "bin_start": 20.129999999999995,
            "bin_end": 26.839999999999996,
            "count": 156
           },
           {
            "bin_start": 26.839999999999996,
            "bin_end": 33.55,
            "count": 268
           },
           {
            "bin_start": 33.55,
            "bin_end": 40.25999999999999,
            "count": 224
           },
           {
            "bin_start": 40.25999999999999,
            "bin_end": 46.96999999999999,
            "count": 78
           },
           {
            "bin_start": 46.96999999999999,
            "bin_end": 53.67999999999999,
            "count": 12
           },
           {
            "bin_start": 53.67999999999999,
            "bin_end": 60.38999999999999,
            "count": 3
           },
           {
            "bin_start": 60.38999999999999,
            "bin_end": 67.1,
            "count": 1
           }
          ]
         }
        },
        {
         "name": "pedi",
         "dtype": "float64",
         "stats": {
          "unique_count": 517,
          "nan_count": 0,
          "min": "0.078",
          "max": "2.42",
          "histogram": [
           {
            "bin_start": 0.078,
            "bin_end": 0.31220000000000003,
            "count": 318
           },
           {
            "bin_start": 0.31220000000000003,
            "bin_end": 0.5464,
            "count": 206
           },
           {
            "bin_start": 0.5464,
            "bin_end": 0.7806000000000001,
            "count": 136
           },
           {
            "bin_start": 0.7806000000000001,
            "bin_end": 1.0148000000000001,
            "count": 58
           },
           {
            "bin_start": 1.0148000000000001,
            "bin_end": 1.249,
            "count": 25
           },
           {
            "bin_start": 1.249,
            "bin_end": 1.4832000000000003,
            "count": 15
           },
           {
            "bin_start": 1.4832000000000003,
            "bin_end": 1.7174000000000003,
            "count": 3
           },
           {
            "bin_start": 1.7174000000000003,
            "bin_end": 1.9516000000000002,
            "count": 3
           },
           {
            "bin_start": 1.9516000000000002,
            "bin_end": 2.1858,
            "count": 1
           },
           {
            "bin_start": 2.1858,
            "bin_end": 2.42,
            "count": 3
           }
          ]
         }
        },
        {
         "name": "age",
         "dtype": "int64",
         "stats": {
          "unique_count": 52,
          "nan_count": 0,
          "min": "21",
          "max": "81",
          "histogram": [
           {
            "bin_start": 21,
            "bin_end": 27,
            "count": 300
           },
           {
            "bin_start": 27,
            "bin_end": 33,
            "count": 157
           },
           {
            "bin_start": 33,
            "bin_end": 39,
            "count": 92
           },
           {
            "bin_start": 39,
            "bin_end": 45,
            "count": 86
           },
           {
            "bin_start": 45,
            "bin_end": 51,
            "count": 52
           },
           {
            "bin_start": 51,
            "bin_end": 57,
            "count": 34
           },
           {
            "bin_start": 57,
            "bin_end": 63,
            "count": 26
           },
           {
            "bin_start": 63,
            "bin_end": 69,
            "count": 16
           },
           {
            "bin_start": 69,
            "bin_end": 75,
            "count": 4
           },
           {
            "bin_start": 75,
            "bin_end": 81,
            "count": 1
           }
          ]
         }
        },
        {
         "name": "class",
         "dtype": "int64",
         "stats": {
          "unique_count": 2,
          "nan_count": 0,
          "min": "0",
          "max": "1",
          "histogram": [
           {
            "bin_start": 0,
            "bin_end": 0.1,
            "count": 500
           },
           {
            "bin_start": 0.1,
            "bin_end": 0.2,
            "count": 0
           },
           {
            "bin_start": 0.2,
            "bin_end": 0.30000000000000004,
            "count": 0
           },
           {
            "bin_start": 0.30000000000000004,
            "bin_end": 0.4,
            "count": 0
           },
           {
            "bin_start": 0.4,
            "bin_end": 0.5,
            "count": 0
           },
           {
            "bin_start": 0.5,
            "bin_end": 0.6000000000000001,
            "count": 0
           },
           {
            "bin_start": 0.6000000000000001,
            "bin_end": 0.7000000000000001,
            "count": 0
           },
           {
            "bin_start": 0.7000000000000001,
            "bin_end": 0.8,
            "count": 0
           },
           {
            "bin_start": 0.8,
            "bin_end": 0.9,
            "count": 0
           },
           {
            "bin_start": 0.9,
            "bin_end": 1,
            "count": 268
           }
          ]
         }
        },
        {
         "name": "_deepnote_index_column",
         "dtype": "int64"
        }
       ],
       "rows": [
        {
         "preg": 0,
         "plas": 102,
         "pres": 52,
         "skin": 0,
         "test": 0,
         "mass": 25.1,
         "pedi": 0.078,
         "age": 21,
         "class": 0,
         "_deepnote_index_column": 268
        },
        {
         "preg": 6,
         "plas": 87,
         "pres": 80,
         "skin": 0,
         "test": 0,
         "mass": 23.2,
         "pedi": 0.084,
         "age": 32,
         "class": 0,
         "_deepnote_index_column": 180
        },
        {
         "preg": 1,
         "plas": 173,
         "pres": 74,
         "skin": 0,
         "test": 0,
         "mass": 36.8,
         "pedi": 0.088,
         "age": 38,
         "class": 1,
         "_deepnote_index_column": 598
        },
        {
         "preg": 2,
         "plas": 74,
         "pres": 0,
         "skin": 0,
         "test": 0,
         "mass": 0,
         "pedi": 0.102,
         "age": 22,
         "class": 0,
         "_deepnote_index_column": 81
        },
        {
         "preg": 2,
         "plas": 99,
         "pres": 0,
         "skin": 0,
         "test": 0,
         "mass": 22.2,
         "pedi": 0.108,
         "age": 23,
         "class": 0,
         "_deepnote_index_column": 430
        },
        {
         "preg": 6,
         "plas": 125,
         "pres": 76,
         "skin": 0,
         "test": 0,
         "mass": 33.8,
         "pedi": 0.121,
         "age": 54,
         "class": 1,
         "_deepnote_index_column": 560
        },
        {
         "preg": 3,
         "plas": 102,
         "pres": 74,
         "skin": 0,
         "test": 0,
         "mass": 29.5,
         "pedi": 0.121,
         "age": 32,
         "class": 0,
         "_deepnote_index_column": 714
        },
        {
         "preg": 4,
         "plas": 114,
         "pres": 64,
         "skin": 0,
         "test": 0,
         "mass": 28.9,
         "pedi": 0.126,
         "age": 24,
         "class": 0,
         "_deepnote_index_column": 474
        },
        {
         "preg": 3,
         "plas": 121,
         "pres": 52,
         "skin": 0,
         "test": 0,
         "mass": 36,
         "pedi": 0.127,
         "age": 25,
         "class": 1,
         "_deepnote_index_column": 678
        },
        {
         "preg": 6,
         "plas": 194,
         "pres": 78,
         "skin": 0,
         "test": 0,
         "mass": 23.5,
         "pedi": 0.129,
         "age": 59,
         "class": 1,
         "_deepnote_index_column": 319
        }
       ]
      },
      "text/plain": "     preg  plas  pres  skin  test  mass   pedi  age  class\n268     0   102    52     0     0  25.1  0.078   21      0\n180     6    87    80     0     0  23.2  0.084   32      0\n598     1   173    74     0     0  36.8  0.088   38      1\n81      2    74     0     0     0   0.0  0.102   22      0\n430     2    99     0     0     0  22.2  0.108   23      0\n..    ...   ...   ...   ...   ...   ...    ...  ...    ...\n211     0   147    85    54     0  42.8  0.375   24      0\n120     0   162    76    56   100  53.2  0.759   25      1\n57      0   100    88    60   110  46.8  0.962   31      0\n445     0   180    78    63    14  59.4  2.420   25      1\n579     2   197    70    99     0  34.7  0.575   62      1\n\n[768 rows x 9 columns]",
      "text/html": "<div>\n<style scoped>\n    .dataframe tbody tr th:only-of-type {\n        vertical-align: middle;\n    }\n\n    .dataframe tbody tr th {\n        vertical-align: top;\n    }\n\n    .dataframe thead th {\n        text-align: right;\n    }\n</style>\n<table border=\"1\" class=\"dataframe\">\n  <thead>\n    <tr style=\"text-align: right;\">\n      <th></th>\n      <th>preg</th>\n      <th>plas</th>\n      <th>pres</th>\n      <th>skin</th>\n      <th>test</th>\n      <th>mass</th>\n      <th>pedi</th>\n      <th>age</th>\n      <th>class</th>\n    </tr>\n  </thead>\n  <tbody>\n    <tr>\n      <th>268</th>\n      <td>0</td>\n      <td>102</td>\n      <td>52</td>\n      <td>0</td>\n      <td>0</td>\n      <td>25.1</td>\n      <td>0.078</td>\n      <td>21</td>\n      <td>0</td>\n    </tr>\n    <tr>\n      <th>180</th>\n      <td>6</td>\n      <td>87</td>\n      <td>80</td>\n      <td>0</td>\n      <td>0</td>\n      <td>23.2</td>\n      <td>0.084</td>\n      <td>32</td>\n      <td>0</td>\n    </tr>\n    <tr>\n      <th>598</th>\n      <td>1</td>\n      <td>173</td>\n      <td>74</td>\n      <td>0</td>\n      <td>0</td>\n      <td>36.8</td>\n      <td>0.088</td>\n      <td>38</td>\n      <td>1</td>\n    </tr>\n    <tr>\n      <th>81</th>\n      <td>2</td>\n      <td>74</td>\n      <td>0</td>\n      <td>0</td>\n      <td>0</td>\n      <td>0.0</td>\n      <td>0.102</td>\n      <td>22</td>\n      <td>0</td>\n    </tr>\n    <tr>\n      <th>430</th>\n      <td>2</td>\n      <td>99</td>\n      <td>0</td>\n      <td>0</td>\n      <td>0</td>\n      <td>22.2</td>\n      <td>0.108</td>\n      <td>23</td>\n      <td>0</td>\n    </tr>\n    <tr>\n      <th>...</th>\n      <td>...</td>\n      <td>...</td>\n      <td>...</td>\n      <td>...</td>\n      <td>...</td>\n      <td>...</td>\n      <td>...</td>\n      <td>...</td>\n      <td>...</td>\n    </tr>\n    <tr>\n      <th>211</th>\n      <td>0</td>\n      <td>147</td>\n      <td>85</td>\n      <td>54</td>\n      <td>0</td>\n      <td>42.8</td>\n      <td>0.375</td>\n      <td>24</td>\n      <td>0</td>\n    </tr>\n    <tr>\n      <th>120</th>\n      <td>0</td>\n      <td>162</td>\n      <td>76</td>\n      <td>56</td>\n      <td>100</td>\n      <td>53.2</td>\n      <td>0.759</td>\n      <td>25</td>\n      <td>1</td>\n    </tr>\n    <tr>\n      <th>57</th>\n      <td>0</td>\n      <td>100</td>\n      <td>88</td>\n      <td>60</td>\n      <td>110</td>\n      <td>46.8</td>\n      <td>0.962</td>\n      <td>31</td>\n      <td>0</td>\n    </tr>\n    <tr>\n      <th>445</th>\n      <td>0</td>\n      <td>180</td>\n      <td>78</td>\n      <td>63</td>\n      <td>14</td>\n      <td>59.4</td>\n      <td>2.420</td>\n      <td>25</td>\n      <td>1</td>\n    </tr>\n    <tr>\n      <th>579</th>\n      <td>2</td>\n      <td>197</td>\n      <td>70</td>\n      <td>99</td>\n      <td>0</td>\n      <td>34.7</td>\n      <td>0.575</td>\n      <td>62</td>\n      <td>1</td>\n    </tr>\n  </tbody>\n</table>\n<p>768 rows × 9 columns</p>\n</div>"
     },
     "metadata": {}
    }
   ]
  },
  {
   "cell_type": "markdown",
   "source": "Now let's find the 4 largest values for `\"age\"`",
   "metadata": {
    "colab_type": "text",
    "id": "BIJkXsK4ch-u",
    "cell_id": "00025-31c03cc1-a702-4c90-89f0-dab8fb9b51bf",
    "deepnote_cell_type": "markdown",
    "deepnote_cell_height": 52.390625
   }
  },
  {
   "cell_type": "code",
   "metadata": {
    "colab_type": "code",
    "id": "kSl28jLLdAF9",
    "colab": {},
    "cell_id": "00026-9728e4ca-d0d3-4d8c-a818-707a90e9e5d3",
    "deepnote_to_be_reexecuted": false,
    "source_hash": "2759bd5a",
    "execution_start": 1657649832565,
    "execution_millis": 481,
    "deepnote_cell_type": "code",
    "deepnote_cell_height": 354
   },
   "source": "df.nlargest(4,['age'])",
   "execution_count": null,
   "outputs": [
    {
     "output_type": "execute_result",
     "execution_count": 13,
     "data": {
      "application/vnd.deepnote.dataframe.v3+json": {
       "column_count": 9,
       "row_count": 4,
       "columns": [
        {
         "name": "preg",
         "dtype": "int64",
         "stats": {
          "unique_count": 4,
          "nan_count": 0,
          "min": "2",
          "max": "9",
          "histogram": [
           {
            "bin_start": 2,
            "bin_end": 2.7,
            "count": 1
           },
           {
            "bin_start": 2.7,
            "bin_end": 3.4,
            "count": 0
           },
           {
            "bin_start": 3.4,
            "bin_end": 4.1,
            "count": 1
           },
           {
            "bin_start": 4.1,
            "bin_end": 4.8,
            "count": 0
           },
           {
            "bin_start": 4.8,
            "bin_end": 5.5,
            "count": 1
           },
           {
            "bin_start": 5.5,
            "bin_end": 6.199999999999999,
            "count": 0
           },
           {
            "bin_start": 6.199999999999999,
            "bin_end": 6.8999999999999995,
            "count": 0
           },
           {
            "bin_start": 6.8999999999999995,
            "bin_end": 7.6,
            "count": 0
           },
           {
            "bin_start": 7.6,
            "bin_end": 8.3,
            "count": 0
           },
           {
            "bin_start": 8.3,
            "bin_end": 9,
            "count": 1
           }
          ]
         }
        },
        {
         "name": "plas",
         "dtype": "int64",
         "stats": {
          "unique_count": 4,
          "nan_count": 0,
          "min": "119",
          "max": "145",
          "histogram": [
           {
            "bin_start": 119,
            "bin_end": 121.6,
            "count": 1
           },
           {
            "bin_start": 121.6,
            "bin_end": 124.2,
            "count": 0
           },
           {
            "bin_start": 124.2,
            "bin_end": 126.8,
            "count": 0
           },
           {
            "bin_start": 126.8,
            "bin_end": 129.4,
            "count": 0
           },
           {
            "bin_start": 129.4,
            "bin_end": 132,
            "count": 0
           },
           {
            "bin_start": 132,
            "bin_end": 134.6,
            "count": 2
           },
           {
            "bin_start": 134.6,
            "bin_end": 137.2,
            "count": 0
           },
           {
            "bin_start": 137.2,
            "bin_end": 139.8,
            "count": 0
           },
           {
            "bin_start": 139.8,
            "bin_end": 142.4,
            "count": 0
           },
           {
            "bin_start": 142.4,
            "bin_end": 145,
            "count": 1
           }
          ]
         }
        },
        {
         "name": "pres",
         "dtype": "int64",
         "stats": {
          "unique_count": 4,
          "nan_count": 0,
          "min": "0",
          "max": "82",
          "histogram": [
           {
            "bin_start": 0,
            "bin_end": 8.2,
            "count": 1
           },
           {
            "bin_start": 8.2,
            "bin_end": 16.4,
            "count": 0
           },
           {
            "bin_start": 16.4,
            "bin_end": 24.599999999999998,
            "count": 0
           },
           {
            "bin_start": 24.599999999999998,
            "bin_end": 32.8,
            "count": 0
           },
           {
            "bin_start": 32.8,
            "bin_end": 41,
            "count": 0
           },
           {
            "bin_start": 41,
            "bin_end": 49.199999999999996,
            "count": 0
           },
           {
            "bin_start": 49.199999999999996,
            "bin_end": 57.39999999999999,
            "count": 0
           },
           {
            "bin_start": 57.39999999999999,
            "bin_end": 65.6,
            "count": 0
           },
           {
            "bin_start": 65.6,
            "bin_end": 73.8,
            "count": 0
           },
           {
            "bin_start": 73.8,
            "bin_end": 82,
            "count": 3
           }
          ]
         }
        },
        {
         "name": "skin",
         "dtype": "int64",
         "stats": {
          "unique_count": 3,
          "nan_count": 0,
          "min": "0",
          "max": "33",
          "histogram": [
           {
            "bin_start": 0,
            "bin_end": 3.3,
            "count": 2
           },
           {
            "bin_start": 3.3,
            "bin_end": 6.6,
            "count": 0
           },
           {
            "bin_start": 6.6,
            "bin_end": 9.899999999999999,
            "count": 0
           },
           {
            "bin_start": 9.899999999999999,
            "bin_end": 13.2,
            "count": 0
           },
           {
            "bin_start": 13.2,
            "bin_end": 16.5,
            "count": 0
           },
           {
            "bin_start": 16.5,
            "bin_end": 19.799999999999997,
            "count": 1
           },
           {
            "bin_start": 19.799999999999997,
            "bin_end": 23.099999999999998,
            "count": 0
           },
           {
            "bin_start": 23.099999999999998,
            "bin_end": 26.4,
            "count": 0
           },
           {
            "bin_start": 26.4,
            "bin_end": 29.7,
            "count": 0
           },
           {
            "bin_start": 29.7,
            "bin_end": 33,
            "count": 1
           }
          ]
         }
        },
        {
         "name": "test",
         "dtype": "int64",
         "stats": {
          "unique_count": 2,
          "nan_count": 0,
          "min": "0",
          "max": "60",
          "histogram": [
           {
            "bin_start": 0,
            "bin_end": 6,
            "count": 3
           },
           {
            "bin_start": 6,
            "bin_end": 12,
            "count": 0
           },
           {
            "bin_start": 12,
            "bin_end": 18,
            "count": 0
           },
           {
            "bin_start": 18,
            "bin_end": 24,
            "count": 0
           },
           {
            "bin_start": 24,
            "bin_end": 30,
            "count": 0
           },
           {
            "bin_start": 30,
            "bin_end": 36,
            "count": 0
           },
           {
            "bin_start": 36,
            "bin_end": 42,
            "count": 0
           },
           {
            "bin_start": 42,
            "bin_end": 48,
            "count": 0
           },
           {
            "bin_start": 48,
            "bin_end": 54,
            "count": 0
           },
           {
            "bin_start": 54,
            "bin_end": 60,
            "count": 1
           }
          ]
         }
        },
        {
         "name": "mass",
         "dtype": "float64",
         "stats": {
          "unique_count": 4,
          "nan_count": 0,
          "min": "19.6",
          "max": "32.5",
          "histogram": [
           {
            "bin_start": 19.6,
            "bin_end": 20.89,
            "count": 1
           },
           {
            "bin_start": 20.89,
            "bin_end": 22.18,
            "count": 0
           },
           {
            "bin_start": 22.18,
            "bin_end": 23.47,
            "count": 0
           },
           {
            "bin_start": 23.47,
            "bin_end": 24.76,
            "count": 0
           },
           {
            "bin_start": 24.76,
            "bin_end": 26.05,
            "count": 1
           },
           {
            "bin_start": 26.05,
            "bin_end": 27.34,
            "count": 1
           },
           {
            "bin_start": 27.34,
            "bin_end": 28.630000000000003,
            "count": 0
           },
           {
            "bin_start": 28.630000000000003,
            "bin_end": 29.92,
            "count": 0
           },
           {
            "bin_start": 29.92,
            "bin_end": 31.21,
            "count": 0
           },
           {
            "bin_start": 31.21,
            "bin_end": 32.5,
            "count": 1
           }
          ]
         }
        },
        {
         "name": "pedi",
         "dtype": "float64",
         "stats": {
          "unique_count": 4,
          "nan_count": 0,
          "min": "0.186",
          "max": "0.832",
          "histogram": [
           {
            "bin_start": 0.186,
            "bin_end": 0.2506,
            "count": 2
           },
           {
            "bin_start": 0.2506,
            "bin_end": 0.3152,
            "count": 0
           },
           {
            "bin_start": 0.3152,
            "bin_end": 0.37979999999999997,
            "count": 0
           },
           {
            "bin_start": 0.37979999999999997,
            "bin_end": 0.44439999999999996,
            "count": 0
           },
           {
            "bin_start": 0.44439999999999996,
            "bin_end": 0.5089999999999999,
            "count": 1
           },
           {
            "bin_start": 0.5089999999999999,
            "bin_end": 0.5735999999999999,
            "count": 0
           },
           {
            "bin_start": 0.5735999999999999,
            "bin_end": 0.6381999999999999,
            "count": 0
           },
           {
            "bin_start": 0.6381999999999999,
            "bin_end": 0.7027999999999999,
            "count": 0
           },
           {
            "bin_start": 0.7027999999999999,
            "bin_end": 0.7673999999999999,
            "count": 0
           },
           {
            "bin_start": 0.7673999999999999,
            "bin_end": 0.832,
            "count": 1
           }
          ]
         }
        },
        {
         "name": "age",
         "dtype": "int64",
         "stats": {
          "unique_count": 4,
          "nan_count": 0,
          "min": "69",
          "max": "81",
          "histogram": [
           {
            "bin_start": 69,
            "bin_end": 70.2,
            "count": 2
           },
           {
            "bin_start": 70.2,
            "bin_end": 71.4,
            "count": 0
           },
           {
            "bin_start": 71.4,
            "bin_end": 72.6,
            "count": 1
           },
           {
            "bin_start": 72.6,
            "bin_end": 73.8,
            "count": 0
           },
           {
            "bin_start": 73.8,
            "bin_end": 75,
            "count": 0
           },
           {
            "bin_start": 75,
            "bin_end": 76.2,
            "count": 0
           },
           {
            "bin_start": 76.2,
            "bin_end": 77.4,
            "count": 0
           },
           {
            "bin_start": 77.4,
            "bin_end": 78.6,
            "count": 0
           },
           {
            "bin_start": 78.6,
            "bin_end": 79.8,
            "count": 0
           },
           {
            "bin_start": 79.8,
            "bin_end": 81,
            "count": 1
           }
          ]
         }
        },
        {
         "name": "class",
         "dtype": "int64",
         "stats": {
          "unique_count": 2,
          "nan_count": 0,
          "min": "0",
          "max": "1",
          "histogram": [
           {
            "bin_start": 0,
            "bin_end": 0.1,
            "count": 3
           },
           {
            "bin_start": 0.1,
            "bin_end": 0.2,
            "count": 0
           },
           {
            "bin_start": 0.2,
            "bin_end": 0.30000000000000004,
            "count": 0
           },
           {
            "bin_start": 0.30000000000000004,
            "bin_end": 0.4,
            "count": 0
           },
           {
            "bin_start": 0.4,
            "bin_end": 0.5,
            "count": 0
           },
           {
            "bin_start": 0.5,
            "bin_end": 0.6000000000000001,
            "count": 0
           },
           {
            "bin_start": 0.6000000000000001,
            "bin_end": 0.7000000000000001,
            "count": 0
           },
           {
            "bin_start": 0.7000000000000001,
            "bin_end": 0.8,
            "count": 0
           },
           {
            "bin_start": 0.8,
            "bin_end": 0.9,
            "count": 0
           },
           {
            "bin_start": 0.9,
            "bin_end": 1,
            "count": 1
           }
          ]
         }
        },
        {
         "name": "_deepnote_index_column",
         "dtype": "int64"
        }
       ],
       "rows": [
        {
         "preg": 9,
         "plas": 134,
         "pres": 74,
         "skin": 33,
         "test": 60,
         "mass": 25.9,
         "pedi": 0.46,
         "age": 81,
         "class": 0,
         "_deepnote_index_column": 459
        },
        {
         "preg": 2,
         "plas": 119,
         "pres": 0,
         "skin": 0,
         "test": 0,
         "mass": 19.6,
         "pedi": 0.832,
         "age": 72,
         "class": 0,
         "_deepnote_index_column": 453
        },
        {
         "preg": 4,
         "plas": 145,
         "pres": 82,
         "skin": 18,
         "test": 0,
         "mass": 32.5,
         "pedi": 0.235,
         "age": 70,
         "class": 1,
         "_deepnote_index_column": 666
        },
        {
         "preg": 5,
         "plas": 132,
         "pres": 80,
         "skin": 0,
         "test": 0,
         "mass": 26.8,
         "pedi": 0.186,
         "age": 69,
         "class": 0,
         "_deepnote_index_column": 123
        }
       ]
      },
      "text/plain": "     preg  plas  pres  skin  test  mass   pedi  age  class\n459     9   134    74    33    60  25.9  0.460   81      0\n453     2   119     0     0     0  19.6  0.832   72      0\n666     4   145    82    18     0  32.5  0.235   70      1\n123     5   132    80     0     0  26.8  0.186   69      0",
      "text/html": "<div>\n<style scoped>\n    .dataframe tbody tr th:only-of-type {\n        vertical-align: middle;\n    }\n\n    .dataframe tbody tr th {\n        vertical-align: top;\n    }\n\n    .dataframe thead th {\n        text-align: right;\n    }\n</style>\n<table border=\"1\" class=\"dataframe\">\n  <thead>\n    <tr style=\"text-align: right;\">\n      <th></th>\n      <th>preg</th>\n      <th>plas</th>\n      <th>pres</th>\n      <th>skin</th>\n      <th>test</th>\n      <th>mass</th>\n      <th>pedi</th>\n      <th>age</th>\n      <th>class</th>\n    </tr>\n  </thead>\n  <tbody>\n    <tr>\n      <th>459</th>\n      <td>9</td>\n      <td>134</td>\n      <td>74</td>\n      <td>33</td>\n      <td>60</td>\n      <td>25.9</td>\n      <td>0.460</td>\n      <td>81</td>\n      <td>0</td>\n    </tr>\n    <tr>\n      <th>453</th>\n      <td>2</td>\n      <td>119</td>\n      <td>0</td>\n      <td>0</td>\n      <td>0</td>\n      <td>19.6</td>\n      <td>0.832</td>\n      <td>72</td>\n      <td>0</td>\n    </tr>\n    <tr>\n      <th>666</th>\n      <td>4</td>\n      <td>145</td>\n      <td>82</td>\n      <td>18</td>\n      <td>0</td>\n      <td>32.5</td>\n      <td>0.235</td>\n      <td>70</td>\n      <td>1</td>\n    </tr>\n    <tr>\n      <th>123</th>\n      <td>5</td>\n      <td>132</td>\n      <td>80</td>\n      <td>0</td>\n      <td>0</td>\n      <td>26.8</td>\n      <td>0.186</td>\n      <td>69</td>\n      <td>0</td>\n    </tr>\n  </tbody>\n</table>\n</div>"
     },
     "metadata": {}
    }
   ]
  },
  {
   "cell_type": "markdown",
   "source": "Now find the smallest 4 values for `\"pedi\"` and `\"plas\"` in reverse order (smallest to largest).",
   "metadata": {
    "colab_type": "text",
    "id": "fJRwe8UfqvNG",
    "cell_id": "00027-a5e12cb1-a313-47bf-9640-256181c460ad",
    "deepnote_cell_type": "markdown",
    "deepnote_cell_height": 52.390625
   }
  },
  {
   "cell_type": "code",
   "metadata": {
    "colab_type": "code",
    "id": "icQcbPg1quNI",
    "colab": {},
    "cell_id": "00028-2add4c0a-65b7-424e-a4d9-756817979e60",
    "deepnote_to_be_reexecuted": false,
    "source_hash": "6123ef5f",
    "execution_start": 1657649832633,
    "execution_millis": 415,
    "deepnote_cell_type": "code",
    "deepnote_cell_height": 354
   },
   "source": "df.nsmallest(4,['pedi','plas'], keep='last')",
   "execution_count": null,
   "outputs": [
    {
     "output_type": "execute_result",
     "execution_count": 14,
     "data": {
      "application/vnd.deepnote.dataframe.v3+json": {
       "column_count": 9,
       "row_count": 4,
       "columns": [
        {
         "name": "preg",
         "dtype": "int64",
         "stats": {
          "unique_count": 3,
          "nan_count": 0,
          "min": "0",
          "max": "6",
          "histogram": [
           {
            "bin_start": 0,
            "bin_end": 0.6,
            "count": 1
           },
           {
            "bin_start": 0.6,
            "bin_end": 1.2,
            "count": 0
           },
           {
            "bin_start": 1.2,
            "bin_end": 1.7999999999999998,
            "count": 0
           },
           {
            "bin_start": 1.7999999999999998,
            "bin_end": 2.4,
            "count": 1
           },
           {
            "bin_start": 2.4,
            "bin_end": 3,
            "count": 0
           },
           {
            "bin_start": 3,
            "bin_end": 3.5999999999999996,
            "count": 0
           },
           {
            "bin_start": 3.5999999999999996,
            "bin_end": 4.2,
            "count": 0
           },
           {
            "bin_start": 4.2,
            "bin_end": 4.8,
            "count": 0
           },
           {
            "bin_start": 4.8,
            "bin_end": 5.3999999999999995,
            "count": 0
           },
           {
            "bin_start": 5.3999999999999995,
            "bin_end": 6,
            "count": 2
           }
          ]
         }
        },
        {
         "name": "plas",
         "dtype": "int64",
         "stats": {
          "unique_count": 4,
          "nan_count": 0,
          "min": "87",
          "max": "102",
          "histogram": [
           {
            "bin_start": 87,
            "bin_end": 88.5,
            "count": 1
           },
           {
            "bin_start": 88.5,
            "bin_end": 90,
            "count": 0
           },
           {
            "bin_start": 90,
            "bin_end": 91.5,
            "count": 1
           },
           {
            "bin_start": 91.5,
            "bin_end": 93,
            "count": 1
           },
           {
            "bin_start": 93,
            "bin_end": 94.5,
            "count": 0
           },
           {
            "bin_start": 94.5,
            "bin_end": 96,
            "count": 0
           },
           {
            "bin_start": 96,
            "bin_end": 97.5,
            "count": 0
           },
           {
            "bin_start": 97.5,
            "bin_end": 99,
            "count": 0
           },
           {
            "bin_start": 99,
            "bin_end": 100.5,
            "count": 0
           },
           {
            "bin_start": 100.5,
            "bin_end": 102,
            "count": 1
           }
          ]
         }
        },
        {
         "name": "pres",
         "dtype": "int64",
         "stats": {
          "unique_count": 4,
          "nan_count": 0,
          "min": "52",
          "max": "80",
          "histogram": [
           {
            "bin_start": 52,
            "bin_end": 54.8,
            "count": 1
           },
           {
            "bin_start": 54.8,
            "bin_end": 57.6,
            "count": 0
           },
           {
            "bin_start": 57.6,
            "bin_end": 60.4,
            "count": 0
           },
           {
            "bin_start": 60.4,
            "bin_end": 63.2,
            "count": 1
           },
           {
            "bin_start": 63.2,
            "bin_end": 66,
            "count": 0
           },
           {
            "bin_start": 66,
            "bin_end": 68.8,
            "count": 0
           },
           {
            "bin_start": 68.8,
            "bin_end": 71.6,
            "count": 1
           },
           {
            "bin_start": 71.6,
            "bin_end": 74.4,
            "count": 0
           },
           {
            "bin_start": 74.4,
            "bin_end": 77.2,
            "count": 0
           },
           {
            "bin_start": 77.2,
            "bin_end": 80,
            "count": 1
           }
          ]
         }
        },
        {
         "name": "skin",
         "dtype": "int64",
         "stats": {
          "unique_count": 3,
          "nan_count": 0,
          "min": "0",
          "max": "32",
          "histogram": [
           {
            "bin_start": 0,
            "bin_end": 3.2,
            "count": 2
           },
           {
            "bin_start": 3.2,
            "bin_end": 6.4,
            "count": 0
           },
           {
            "bin_start": 6.4,
            "bin_end": 9.600000000000001,
            "count": 0
           },
           {
            "bin_start": 9.600000000000001,
            "bin_end": 12.8,
            "count": 0
           },
           {
            "bin_start": 12.8,
            "bin_end": 16,
            "count": 0
           },
           {
            "bin_start": 16,
            "bin_end": 19.200000000000003,
            "count": 1
           },
           {
            "bin_start": 19.200000000000003,
            "bin_end": 22.400000000000002,
            "count": 0
           },
           {
            "bin_start": 22.400000000000002,
            "bin_end": 25.6,
            "count": 0
           },
           {
            "bin_start": 25.6,
            "bin_end": 28.8,
            "count": 0
           },
           {
            "bin_start": 28.8,
            "bin_end": 32,
            "count": 1
           }
          ]
         }
        },
        {
         "name": "test",
         "dtype": "int64",
         "stats": {
          "unique_count": 2,
          "nan_count": 0,
          "min": "0",
          "max": "126",
          "histogram": [
           {
            "bin_start": 0,
            "bin_end": 12.6,
            "count": 3
           },
           {
            "bin_start": 12.6,
            "bin_end": 25.2,
            "count": 0
           },
           {
            "bin_start": 25.2,
            "bin_end": 37.8,
            "count": 0
           },
           {
            "bin_start": 37.8,
            "bin_end": 50.4,
            "count": 0
           },
           {
            "bin_start": 50.4,
            "bin_end": 63,
            "count": 0
           },
           {
            "bin_start": 63,
            "bin_end": 75.6,
            "count": 0
           },
           {
            "bin_start": 75.6,
            "bin_end": 88.2,
            "count": 0
           },
           {
            "bin_start": 88.2,
            "bin_end": 100.8,
            "count": 0
           },
           {
            "bin_start": 100.8,
            "bin_end": 113.39999999999999,
            "count": 0
           },
           {
            "bin_start": 113.39999999999999,
            "bin_end": 126,
            "count": 1
           }
          ]
         }
        },
        {
         "name": "mass",
         "dtype": "float64",
         "stats": {
          "unique_count": 4,
          "nan_count": 0,
          "min": "23.2",
          "max": "32.0",
          "histogram": [
           {
            "bin_start": 23.2,
            "bin_end": 24.08,
            "count": 1
           },
           {
            "bin_start": 24.08,
            "bin_end": 24.96,
            "count": 0
           },
           {
            "bin_start": 24.96,
            "bin_end": 25.84,
            "count": 1
           },
           {
            "bin_start": 25.84,
            "bin_end": 26.72,
            "count": 0
           },
           {
            "bin_start": 26.72,
            "bin_end": 27.6,
            "count": 1
           },
           {
            "bin_start": 27.6,
            "bin_end": 28.48,
            "count": 0
           },
           {
            "bin_start": 28.48,
            "bin_end": 29.36,
            "count": 0
           },
           {
            "bin_start": 29.36,
            "bin_end": 30.240000000000002,
            "count": 0
           },
           {
            "bin_start": 30.240000000000002,
            "bin_end": 31.12,
            "count": 0
           },
           {
            "bin_start": 31.12,
            "bin_end": 32,
            "count": 1
           }
          ]
         }
        },
        {
         "name": "pedi",
         "dtype": "float64",
         "stats": {
          "unique_count": 3,
          "nan_count": 0,
          "min": "0.078",
          "max": "0.085",
          "histogram": [
           {
            "bin_start": 0.078,
            "bin_end": 0.0787,
            "count": 1
           },
           {
            "bin_start": 0.0787,
            "bin_end": 0.0794,
            "count": 0
           },
           {
            "bin_start": 0.0794,
            "bin_end": 0.0801,
            "count": 0
           },
           {
            "bin_start": 0.0801,
            "bin_end": 0.0808,
            "count": 0
           },
           {
            "bin_start": 0.0808,
            "bin_end": 0.0815,
            "count": 0
           },
           {
            "bin_start": 0.0815,
            "bin_end": 0.08220000000000001,
            "count": 0
           },
           {
            "bin_start": 0.08220000000000001,
            "bin_end": 0.0829,
            "count": 0
           },
           {
            "bin_start": 0.0829,
            "bin_end": 0.08360000000000001,
            "count": 0
           },
           {
            "bin_start": 0.08360000000000001,
            "bin_end": 0.0843,
            "count": 1
           },
           {
            "bin_start": 0.0843,
            "bin_end": 0.085,
            "count": 2
           }
          ]
         }
        },
        {
         "name": "age",
         "dtype": "int64",
         "stats": {
          "unique_count": 4,
          "nan_count": 0,
          "min": "21",
          "max": "46",
          "histogram": [
           {
            "bin_start": 21,
            "bin_end": 23.5,
            "count": 2
           },
           {
            "bin_start": 23.5,
            "bin_end": 26,
            "count": 0
           },
           {
            "bin_start": 26,
            "bin_end": 28.5,
            "count": 0
           },
           {
            "bin_start": 28.5,
            "bin_end": 31,
            "count": 0
           },
           {
            "bin_start": 31,
            "bin_end": 33.5,
            "count": 1
           },
           {
            "bin_start": 33.5,
            "bin_end": 36,
            "count": 0
           },
           {
            "bin_start": 36,
            "bin_end": 38.5,
            "count": 0
           },
           {
            "bin_start": 38.5,
            "bin_end": 41,
            "count": 0
           },
           {
            "bin_start": 41,
            "bin_end": 43.5,
            "count": 0
           },
           {
            "bin_start": 43.5,
            "bin_end": 46,
            "count": 1
           }
          ]
         }
        },
        {
         "name": "class",
         "dtype": "int64",
         "stats": {
          "unique_count": 1,
          "nan_count": 0,
          "min": "0",
          "max": "0",
          "histogram": [
           {
            "bin_start": -0.5,
            "bin_end": -0.4,
            "count": 0
           },
           {
            "bin_start": -0.4,
            "bin_end": -0.3,
            "count": 0
           },
           {
            "bin_start": -0.3,
            "bin_end": -0.19999999999999996,
            "count": 0
           },
           {
            "bin_start": -0.19999999999999996,
            "bin_end": -0.09999999999999998,
            "count": 0
           },
           {
            "bin_start": -0.09999999999999998,
            "bin_end": 0,
            "count": 0
           },
           {
            "bin_start": 0,
            "bin_end": 0.10000000000000009,
            "count": 4
           },
           {
            "bin_start": 0.10000000000000009,
            "bin_end": 0.20000000000000007,
            "count": 0
           },
           {
            "bin_start": 0.20000000000000007,
            "bin_end": 0.30000000000000004,
            "count": 0
           },
           {
            "bin_start": 0.30000000000000004,
            "bin_end": 0.4,
            "count": 0
           },
           {
            "bin_start": 0.4,
            "bin_end": 0.5,
            "count": 0
           }
          ]
         }
        },
        {
         "name": "_deepnote_index_column",
         "dtype": "int64"
        }
       ],
       "rows": [
        {
         "preg": 0,
         "plas": 102,
         "pres": 52,
         "skin": 0,
         "test": 0,
         "mass": 25.1,
         "pedi": 0.078,
         "age": 21,
         "class": 0,
         "_deepnote_index_column": 268
        },
        {
         "preg": 6,
         "plas": 87,
         "pres": 80,
         "skin": 0,
         "test": 0,
         "mass": 23.2,
         "pedi": 0.084,
         "age": 32,
         "class": 0,
         "_deepnote_index_column": 180
        },
        {
         "preg": 2,
         "plas": 90,
         "pres": 70,
         "skin": 17,
         "test": 0,
         "mass": 27.3,
         "pedi": 0.085,
         "age": 22,
         "class": 0,
         "_deepnote_index_column": 149
        },
        {
         "preg": 6,
         "plas": 92,
         "pres": 62,
         "skin": 32,
         "test": 126,
         "mass": 32,
         "pedi": 0.085,
         "age": 46,
         "class": 0,
         "_deepnote_index_column": 567
        }
       ]
      },
      "text/plain": "     preg  plas  pres  skin  test  mass   pedi  age  class\n268     0   102    52     0     0  25.1  0.078   21      0\n180     6    87    80     0     0  23.2  0.084   32      0\n149     2    90    70    17     0  27.3  0.085   22      0\n567     6    92    62    32   126  32.0  0.085   46      0",
      "text/html": "<div>\n<style scoped>\n    .dataframe tbody tr th:only-of-type {\n        vertical-align: middle;\n    }\n\n    .dataframe tbody tr th {\n        vertical-align: top;\n    }\n\n    .dataframe thead th {\n        text-align: right;\n    }\n</style>\n<table border=\"1\" class=\"dataframe\">\n  <thead>\n    <tr style=\"text-align: right;\">\n      <th></th>\n      <th>preg</th>\n      <th>plas</th>\n      <th>pres</th>\n      <th>skin</th>\n      <th>test</th>\n      <th>mass</th>\n      <th>pedi</th>\n      <th>age</th>\n      <th>class</th>\n    </tr>\n  </thead>\n  <tbody>\n    <tr>\n      <th>268</th>\n      <td>0</td>\n      <td>102</td>\n      <td>52</td>\n      <td>0</td>\n      <td>0</td>\n      <td>25.1</td>\n      <td>0.078</td>\n      <td>21</td>\n      <td>0</td>\n    </tr>\n    <tr>\n      <th>180</th>\n      <td>6</td>\n      <td>87</td>\n      <td>80</td>\n      <td>0</td>\n      <td>0</td>\n      <td>23.2</td>\n      <td>0.084</td>\n      <td>32</td>\n      <td>0</td>\n    </tr>\n    <tr>\n      <th>149</th>\n      <td>2</td>\n      <td>90</td>\n      <td>70</td>\n      <td>17</td>\n      <td>0</td>\n      <td>27.3</td>\n      <td>0.085</td>\n      <td>22</td>\n      <td>0</td>\n    </tr>\n    <tr>\n      <th>567</th>\n      <td>6</td>\n      <td>92</td>\n      <td>62</td>\n      <td>32</td>\n      <td>126</td>\n      <td>32.0</td>\n      <td>0.085</td>\n      <td>46</td>\n      <td>0</td>\n    </tr>\n  </tbody>\n</table>\n</div>"
     },
     "metadata": {}
    }
   ]
  },
  {
   "cell_type": "markdown",
   "source": "<a style='text-decoration:none;line-height:16px;display:flex;color:#5B5B62;padding:10px;justify-content:end;' href='https://deepnote.com?utm_source=created-in-deepnote-cell&projectId=f6682294-4076-472f-b6a3-592ed81e5f9c' target=\"_blank\">\n<img alt='Created in deepnote.com' style='display:inline;max-height:16px;margin:0px;margin-right:7.5px;' src='data:image/svg+xml;base64,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' > </img>\nCreated in <span style='font-weight:600;margin-left:4px;'>Deepnote</span></a>",
   "metadata": {
    "tags": [],
    "created_in_deepnote_cell": true,
    "deepnote_cell_type": "markdown"
   }
  }
 ],
 "nbformat": 4,
 "nbformat_minor": 0,
 "metadata": {
  "colab": {
   "name": "Pandas_Exercises",
   "provenance": [],
   "collapsed_sections": []
  },
  "kernelspec": {
   "display_name": "Python 3",
   "language": "python",
   "name": "python3"
  },
  "language_info": {
   "codemirror_mode": {
    "name": "ipython",
    "version": 3
   },
   "file_extension": ".py",
   "mimetype": "text/x-python",
   "name": "python",
   "nbconvert_exporter": "python",
   "pygments_lexer": "ipython3",
   "version": "3.7.3"
  },
  "deepnote_notebook_id": "86faf811-6ae2-4018-b15f-d354237ab127",
  "deepnote": {},
  "deepnote_execution_queue": []
 }
}