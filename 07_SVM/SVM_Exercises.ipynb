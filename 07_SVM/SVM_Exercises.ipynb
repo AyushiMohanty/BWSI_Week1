{
 "cells": [
  {
   "cell_type": "markdown",
   "source": "# SVM Exercises",
   "metadata": {
    "colab_type": "text",
    "id": "-UimMCmGe19F",
    "cell_id": "00000-5fb60405-7278-4857-8f1c-83bb20c68574",
    "deepnote_cell_type": "markdown",
    "deepnote_cell_height": 82
   }
  },
  {
   "cell_type": "code",
   "metadata": {
    "colab_type": "code",
    "id": "kedW02LgKjVL",
    "colab": {},
    "cell_id": "00001-e1a4c03d-1183-4e13-9038-a7bab56993a8",
    "deepnote_to_be_reexecuted": false,
    "source_hash": "e026d9ad",
    "execution_start": 1657748753606,
    "execution_millis": 3,
    "deepnote_cell_type": "code",
    "deepnote_cell_height": 225
   },
   "source": "import numpy as np\nimport pandas as pd\nfrom sklearn.model_selection import train_test_split\nimport matplotlib.pyplot as plt\n\nfrom sklearn import svm\nfrom sklearn.metrics import accuracy_score\nfrom sklearn.svm import SVC\nfrom sklearn import metrics",
   "execution_count": null,
   "outputs": []
  },
  {
   "cell_type": "markdown",
   "source": "Load Pima diabetes dataset",
   "metadata": {
    "id": "RxeCyhoaTAQC",
    "colab_type": "text",
    "cell_id": "00002-6549e6ea-d8ee-496c-9ca2-d38022789760",
    "deepnote_cell_type": "markdown",
    "deepnote_cell_height": 52.390625
   }
  },
  {
   "cell_type": "code",
   "metadata": {
    "colab_type": "code",
    "id": "Ydh9gmDkMGmu",
    "colab": {},
    "cell_id": "00003-87baad52-5175-4fb5-ae95-5c4802dd342d",
    "deepnote_to_be_reexecuted": false,
    "source_hash": "266dcc7d",
    "execution_start": 1657748786034,
    "execution_millis": 412,
    "deepnote_cell_type": "code",
    "deepnote_cell_height": 446.625
   },
   "source": "url = \"https://raw.githubusercontent.com/BeaverWorksMedlytics2020/Data_Public/master/NotebookExampleData/Week1/diabetes.csv\"\nnames = ['preg', 'plas', 'pres', 'skin', 'test', 'mass', 'pedi', 'age', 'class']\n\ndata = pd.read_csv(url, names=names)\n",
   "execution_count": null,
   "outputs": [
    {
     "name": "stdout",
     "text": "     preg  plas  pres  skin  test  mass   pedi  age  class\n0       6   148    72    35     0  33.6  0.627   50      1\n1       1    85    66    29     0  26.6  0.351   31      0\n2       8   183    64     0     0  23.3  0.672   32      1\n3       1    89    66    23    94  28.1  0.167   21      0\n4       0   137    40    35   168  43.1  2.288   33      1\n..    ...   ...   ...   ...   ...   ...    ...  ...    ...\n763    10   101    76    48   180  32.9  0.171   63      0\n764     2   122    70    27     0  36.8  0.340   27      0\n765     5   121    72    23   112  26.2  0.245   30      0\n766     1   126    60     0     0  30.1  0.349   47      1\n767     1    93    70    31     0  30.4  0.315   23      0\n\n[768 rows x 9 columns]\n",
     "output_type": "stream"
    }
   ]
  },
  {
   "cell_type": "markdown",
   "source": "Split data into training, validation, and test sets with a test size of 25%",
   "metadata": {
    "id": "1O5s3G_ncGmw",
    "colab_type": "text",
    "cell_id": "00004-4d7332bf-55df-4f12-824d-67105e182eb8",
    "deepnote_cell_type": "markdown",
    "deepnote_cell_height": 52.390625
   }
  },
  {
   "cell_type": "code",
   "metadata": {
    "id": "LfmYBpMicLdi",
    "colab_type": "code",
    "colab": {},
    "cell_id": "00005-48bbf6f0-23fd-4a50-a174-b677aa4b794f",
    "deepnote_to_be_reexecuted": false,
    "source_hash": "a7dace8d",
    "execution_start": 1657748808612,
    "execution_millis": 1,
    "deepnote_cell_type": "code",
    "deepnote_cell_height": 207
   },
   "source": "# YOUR CODE HERE\ntest_size = 0.25\nX_cols = [\"preg\", \"plas\", \"pres\", \"skin\", \"test\", \"mass\", \"pedi\", \"age\"]\ny_col = ['class']\nX_train, X_test, y_train, y_test = train_test_split(data[X_cols], data[y_col], test_size=test_size, random_state=0)\n\n# Further split X and y of training into training and validation sets\nX_train, X_val, y_train, y_val = train_test_split(X_train, y_train, test_size=test_size, random_state=0)",
   "execution_count": null,
   "outputs": []
  },
  {
   "cell_type": "markdown",
   "source": "Create a model with sklearn's SVC and a high gamma value (perhaps 1.0)",
   "metadata": {
    "id": "uluFKd1hTAQK",
    "colab_type": "text",
    "cell_id": "00006-44f6e42e-9cc2-4319-9d43-e90162df91ff",
    "deepnote_cell_type": "markdown",
    "deepnote_cell_height": 52.390625
   }
  },
  {
   "cell_type": "code",
   "metadata": {
    "colab_type": "code",
    "id": "9rYQecrQ8yjn",
    "colab": {},
    "cell_id": "00007-d0d2df7f-7bfb-4521-b0c5-e26a253c49cc",
    "deepnote_to_be_reexecuted": false,
    "source_hash": "6555685",
    "execution_start": 1657748811212,
    "execution_millis": 776,
    "deepnote_cell_type": "code",
    "deepnote_cell_height": 263.71875,
    "deepnote_output_heights": [
     null,
     60.34375
    ]
   },
   "source": "# YOUR CODE HERE\nsvm = SVC(gamma=1)\nsvm.fit(X_train, y_train)",
   "execution_count": null,
   "outputs": [
    {
     "name": "stderr",
     "text": "/shared-libs/python3.9/py/lib/python3.9/site-packages/sklearn/utils/validation.py:1111: DataConversionWarning: A column-vector y was passed when a 1d array was expected. Please change the shape of y to (n_samples, ), for example using ravel().\n  y = column_or_1d(y, warn=True)\n",
     "output_type": "stream"
    },
    {
     "output_type": "execute_result",
     "execution_count": 14,
     "data": {
      "text/plain": "SVC(gamma=1)",
      "text/html": "<style>#sk-container-id-1 {color: black;background-color: white;}#sk-container-id-1 pre{padding: 0;}#sk-container-id-1 div.sk-toggleable {background-color: white;}#sk-container-id-1 label.sk-toggleable__label {cursor: pointer;display: block;width: 100%;margin-bottom: 0;padding: 0.3em;box-sizing: border-box;text-align: center;}#sk-container-id-1 label.sk-toggleable__label-arrow:before {content: \"▸\";float: left;margin-right: 0.25em;color: #696969;}#sk-container-id-1 label.sk-toggleable__label-arrow:hover:before {color: black;}#sk-container-id-1 div.sk-estimator:hover label.sk-toggleable__label-arrow:before {color: black;}#sk-container-id-1 div.sk-toggleable__content {max-height: 0;max-width: 0;overflow: hidden;text-align: left;background-color: #f0f8ff;}#sk-container-id-1 div.sk-toggleable__content pre {margin: 0.2em;color: black;border-radius: 0.25em;background-color: #f0f8ff;}#sk-container-id-1 input.sk-toggleable__control:checked~div.sk-toggleable__content {max-height: 200px;max-width: 100%;overflow: auto;}#sk-container-id-1 input.sk-toggleable__control:checked~label.sk-toggleable__label-arrow:before {content: \"▾\";}#sk-container-id-1 div.sk-estimator input.sk-toggleable__control:checked~label.sk-toggleable__label {background-color: #d4ebff;}#sk-container-id-1 div.sk-label input.sk-toggleable__control:checked~label.sk-toggleable__label {background-color: #d4ebff;}#sk-container-id-1 input.sk-hidden--visually {border: 0;clip: rect(1px 1px 1px 1px);clip: rect(1px, 1px, 1px, 1px);height: 1px;margin: -1px;overflow: hidden;padding: 0;position: absolute;width: 1px;}#sk-container-id-1 div.sk-estimator {font-family: monospace;background-color: #f0f8ff;border: 1px dotted black;border-radius: 0.25em;box-sizing: border-box;margin-bottom: 0.5em;}#sk-container-id-1 div.sk-estimator:hover {background-color: #d4ebff;}#sk-container-id-1 div.sk-parallel-item::after {content: \"\";width: 100%;border-bottom: 1px solid gray;flex-grow: 1;}#sk-container-id-1 div.sk-label:hover label.sk-toggleable__label {background-color: #d4ebff;}#sk-container-id-1 div.sk-serial::before {content: \"\";position: absolute;border-left: 1px solid gray;box-sizing: border-box;top: 0;bottom: 0;left: 50%;z-index: 0;}#sk-container-id-1 div.sk-serial {display: flex;flex-direction: column;align-items: center;background-color: white;padding-right: 0.2em;padding-left: 0.2em;position: relative;}#sk-container-id-1 div.sk-item {position: relative;z-index: 1;}#sk-container-id-1 div.sk-parallel {display: flex;align-items: stretch;justify-content: center;background-color: white;position: relative;}#sk-container-id-1 div.sk-item::before, #sk-container-id-1 div.sk-parallel-item::before {content: \"\";position: absolute;border-left: 1px solid gray;box-sizing: border-box;top: 0;bottom: 0;left: 50%;z-index: -1;}#sk-container-id-1 div.sk-parallel-item {display: flex;flex-direction: column;z-index: 1;position: relative;background-color: white;}#sk-container-id-1 div.sk-parallel-item:first-child::after {align-self: flex-end;width: 50%;}#sk-container-id-1 div.sk-parallel-item:last-child::after {align-self: flex-start;width: 50%;}#sk-container-id-1 div.sk-parallel-item:only-child::after {width: 0;}#sk-container-id-1 div.sk-dashed-wrapped {border: 1px dashed gray;margin: 0 0.4em 0.5em 0.4em;box-sizing: border-box;padding-bottom: 0.4em;background-color: white;}#sk-container-id-1 div.sk-label label {font-family: monospace;font-weight: bold;display: inline-block;line-height: 1.2em;}#sk-container-id-1 div.sk-label-container {text-align: center;}#sk-container-id-1 div.sk-container {/* jupyter's `normalize.less` sets `[hidden] { display: none; }` but bootstrap.min.css set `[hidden] { display: none !important; }` so we also need the `!important` here to be able to override the default hidden behavior on the sphinx rendered scikit-learn.org. See: https://github.com/scikit-learn/scikit-learn/issues/21755 */display: inline-block !important;position: relative;}#sk-container-id-1 div.sk-text-repr-fallback {display: none;}</style><div id=\"sk-container-id-1\" class=\"sk-top-container\"><div class=\"sk-text-repr-fallback\"><pre>SVC(gamma=1)</pre><b>In a Jupyter environment, please rerun this cell to show the HTML representation or trust the notebook. <br />On GitHub, the HTML representation is unable to render, please try loading this page with nbviewer.org.</b></div><div class=\"sk-container\" hidden><div class=\"sk-item\"><div class=\"sk-estimator sk-toggleable\"><input class=\"sk-toggleable__control sk-hidden--visually\" id=\"sk-estimator-id-1\" type=\"checkbox\" checked><label for=\"sk-estimator-id-1\" class=\"sk-toggleable__label sk-toggleable__label-arrow\">SVC</label><div class=\"sk-toggleable__content\"><pre>SVC(gamma=1)</pre></div></div></div></div></div>"
     },
     "metadata": {}
    }
   ]
  },
  {
   "cell_type": "markdown",
   "source": "Print accuracy of training and validation data",
   "metadata": {
    "colab_type": "text",
    "id": "qdiqjUje4ll-",
    "cell_id": "00008-de3bdbfb-3102-4479-9ea0-6e6aebd95461",
    "deepnote_cell_type": "markdown",
    "deepnote_cell_height": 52.390625
   }
  },
  {
   "cell_type": "code",
   "metadata": {
    "colab_type": "code",
    "id": "O5LqepHk9S0M",
    "colab": {},
    "cell_id": "00009-a6920f62-16b9-4475-b658-9b716b0ee910",
    "deepnote_to_be_reexecuted": false,
    "source_hash": "7ece0f1d",
    "execution_start": 1657748824324,
    "execution_millis": 32,
    "deepnote_cell_type": "code",
    "deepnote_cell_height": 204.375
   },
   "source": "# YOUR CODE HERE\ny_train_pred=svm.predict(X_train)\nprint(\"Training Accuracy is \", accuracy_score(y_train, y_train_pred)*100)\ny_val_pred=svm.predict(X_val)\nprint(\"Validation Accuracy is \", accuracy_score(y_val,y_val_pred)*100)",
   "execution_count": null,
   "outputs": [
    {
     "name": "stdout",
     "text": "Training Accuracy is  100.0\nValidation Accuracy is  61.80555555555556\n",
     "output_type": "stream"
    }
   ]
  },
  {
   "cell_type": "markdown",
   "source": "Create a model with sklearn's SVC and a low gamma value (perhaps .001)",
   "metadata": {
    "colab_type": "text",
    "id": "fC7VlLtI3ZjQ",
    "cell_id": "00010-c4c59621-414c-4bf8-a2cb-952a956589e2",
    "deepnote_cell_type": "markdown",
    "deepnote_cell_height": 52.390625
   }
  },
  {
   "cell_type": "code",
   "metadata": {
    "colab_type": "code",
    "id": "3vVHnWuY9pFN",
    "colab": {},
    "cell_id": "00011-37f1e332-6c75-44ea-8d6e-2e56129afc42",
    "deepnote_to_be_reexecuted": false,
    "source_hash": "99d68f9d",
    "execution_start": 1657748840710,
    "execution_millis": 22,
    "deepnote_cell_type": "code",
    "deepnote_cell_height": 263.71875,
    "deepnote_output_heights": [
     null,
     60.34375
    ]
   },
   "source": "# YOUR CODE HERE\nsvm = SVC(gamma=0.001)\nsvm.fit(X_train, y_train)",
   "execution_count": null,
   "outputs": [
    {
     "name": "stderr",
     "text": "/shared-libs/python3.9/py/lib/python3.9/site-packages/sklearn/utils/validation.py:1111: DataConversionWarning: A column-vector y was passed when a 1d array was expected. Please change the shape of y to (n_samples, ), for example using ravel().\n  y = column_or_1d(y, warn=True)\n",
     "output_type": "stream"
    },
    {
     "output_type": "execute_result",
     "execution_count": 16,
     "data": {
      "text/plain": "SVC(gamma=0.001)",
      "text/html": "<style>#sk-container-id-2 {color: black;background-color: white;}#sk-container-id-2 pre{padding: 0;}#sk-container-id-2 div.sk-toggleable {background-color: white;}#sk-container-id-2 label.sk-toggleable__label {cursor: pointer;display: block;width: 100%;margin-bottom: 0;padding: 0.3em;box-sizing: border-box;text-align: center;}#sk-container-id-2 label.sk-toggleable__label-arrow:before {content: \"▸\";float: left;margin-right: 0.25em;color: #696969;}#sk-container-id-2 label.sk-toggleable__label-arrow:hover:before {color: black;}#sk-container-id-2 div.sk-estimator:hover label.sk-toggleable__label-arrow:before {color: black;}#sk-container-id-2 div.sk-toggleable__content {max-height: 0;max-width: 0;overflow: hidden;text-align: left;background-color: #f0f8ff;}#sk-container-id-2 div.sk-toggleable__content pre {margin: 0.2em;color: black;border-radius: 0.25em;background-color: #f0f8ff;}#sk-container-id-2 input.sk-toggleable__control:checked~div.sk-toggleable__content {max-height: 200px;max-width: 100%;overflow: auto;}#sk-container-id-2 input.sk-toggleable__control:checked~label.sk-toggleable__label-arrow:before {content: \"▾\";}#sk-container-id-2 div.sk-estimator input.sk-toggleable__control:checked~label.sk-toggleable__label {background-color: #d4ebff;}#sk-container-id-2 div.sk-label input.sk-toggleable__control:checked~label.sk-toggleable__label {background-color: #d4ebff;}#sk-container-id-2 input.sk-hidden--visually {border: 0;clip: rect(1px 1px 1px 1px);clip: rect(1px, 1px, 1px, 1px);height: 1px;margin: -1px;overflow: hidden;padding: 0;position: absolute;width: 1px;}#sk-container-id-2 div.sk-estimator {font-family: monospace;background-color: #f0f8ff;border: 1px dotted black;border-radius: 0.25em;box-sizing: border-box;margin-bottom: 0.5em;}#sk-container-id-2 div.sk-estimator:hover {background-color: #d4ebff;}#sk-container-id-2 div.sk-parallel-item::after {content: \"\";width: 100%;border-bottom: 1px solid gray;flex-grow: 1;}#sk-container-id-2 div.sk-label:hover label.sk-toggleable__label {background-color: #d4ebff;}#sk-container-id-2 div.sk-serial::before {content: \"\";position: absolute;border-left: 1px solid gray;box-sizing: border-box;top: 0;bottom: 0;left: 50%;z-index: 0;}#sk-container-id-2 div.sk-serial {display: flex;flex-direction: column;align-items: center;background-color: white;padding-right: 0.2em;padding-left: 0.2em;position: relative;}#sk-container-id-2 div.sk-item {position: relative;z-index: 1;}#sk-container-id-2 div.sk-parallel {display: flex;align-items: stretch;justify-content: center;background-color: white;position: relative;}#sk-container-id-2 div.sk-item::before, #sk-container-id-2 div.sk-parallel-item::before {content: \"\";position: absolute;border-left: 1px solid gray;box-sizing: border-box;top: 0;bottom: 0;left: 50%;z-index: -1;}#sk-container-id-2 div.sk-parallel-item {display: flex;flex-direction: column;z-index: 1;position: relative;background-color: white;}#sk-container-id-2 div.sk-parallel-item:first-child::after {align-self: flex-end;width: 50%;}#sk-container-id-2 div.sk-parallel-item:last-child::after {align-self: flex-start;width: 50%;}#sk-container-id-2 div.sk-parallel-item:only-child::after {width: 0;}#sk-container-id-2 div.sk-dashed-wrapped {border: 1px dashed gray;margin: 0 0.4em 0.5em 0.4em;box-sizing: border-box;padding-bottom: 0.4em;background-color: white;}#sk-container-id-2 div.sk-label label {font-family: monospace;font-weight: bold;display: inline-block;line-height: 1.2em;}#sk-container-id-2 div.sk-label-container {text-align: center;}#sk-container-id-2 div.sk-container {/* jupyter's `normalize.less` sets `[hidden] { display: none; }` but bootstrap.min.css set `[hidden] { display: none !important; }` so we also need the `!important` here to be able to override the default hidden behavior on the sphinx rendered scikit-learn.org. See: https://github.com/scikit-learn/scikit-learn/issues/21755 */display: inline-block !important;position: relative;}#sk-container-id-2 div.sk-text-repr-fallback {display: none;}</style><div id=\"sk-container-id-2\" class=\"sk-top-container\"><div class=\"sk-text-repr-fallback\"><pre>SVC(gamma=0.001)</pre><b>In a Jupyter environment, please rerun this cell to show the HTML representation or trust the notebook. <br />On GitHub, the HTML representation is unable to render, please try loading this page with nbviewer.org.</b></div><div class=\"sk-container\" hidden><div class=\"sk-item\"><div class=\"sk-estimator sk-toggleable\"><input class=\"sk-toggleable__control sk-hidden--visually\" id=\"sk-estimator-id-2\" type=\"checkbox\" checked><label for=\"sk-estimator-id-2\" class=\"sk-toggleable__label sk-toggleable__label-arrow\">SVC</label><div class=\"sk-toggleable__content\"><pre>SVC(gamma=0.001)</pre></div></div></div></div></div>"
     },
     "metadata": {}
    }
   ]
  },
  {
   "cell_type": "markdown",
   "source": "Print accuracy of training and validation data",
   "metadata": {
    "colab_type": "text",
    "id": "JQB-U50H4mIx",
    "cell_id": "00012-9d51de56-c59b-4c67-93ca-ded038549dde",
    "deepnote_cell_type": "markdown",
    "deepnote_cell_height": 52.390625
   }
  },
  {
   "cell_type": "code",
   "metadata": {
    "colab_type": "code",
    "id": "tr4DGB309s9a",
    "colab": {},
    "cell_id": "00013-1686ba5a-984e-4bb7-8e14-3cf4595286fe",
    "deepnote_to_be_reexecuted": false,
    "source_hash": "7ece0f1d",
    "execution_start": 1657748843205,
    "execution_millis": 28,
    "deepnote_cell_type": "code",
    "deepnote_cell_height": 204.375
   },
   "source": "# YOUR CODE HERE\ny_train_pred=svm.predict(X_train)\nprint(\"Training Accuracy is \", accuracy_score(y_train, y_train_pred)*100)\ny_val_pred=svm.predict(X_val)\nprint(\"Validation Accuracy is \", accuracy_score(y_val,y_val_pred)*100)",
   "execution_count": null,
   "outputs": [
    {
     "name": "stdout",
     "text": "Training Accuracy is  83.33333333333334\nValidation Accuracy is  70.83333333333334\n",
     "output_type": "stream"
    }
   ]
  },
  {
   "cell_type": "markdown",
   "source": "Explain the accuracy results below. ",
   "metadata": {
    "colab_type": "text",
    "id": "TA9xLHAEIKXY",
    "cell_id": "00014-75e189cf-f617-40c8-b066-b058c6625cae",
    "deepnote_cell_type": "markdown",
    "deepnote_cell_height": 52.390625
   }
  },
  {
   "cell_type": "markdown",
   "source": "The model with high gamma was overfit",
   "metadata": {
    "id": "0IKjiKigeeKp",
    "colab_type": "text",
    "cell_id": "00015-c60f1422-df6e-4e9f-aef4-ba8a8cbf9465",
    "owner_user_id": "01511602-ab38-4317-8a2e-d508b21f0e16",
    "deepnote_cell_type": "markdown",
    "deepnote_cell_height": 52.390625
   }
  },
  {
   "cell_type": "markdown",
   "source": "Print the confusion matrices for your high and low gamma models (both numeric and visualized)",
   "metadata": {
    "id": "DxF6fUTvTAQk",
    "colab_type": "text",
    "cell_id": "00016-7b0a5607-4791-44dd-ad32-62f16f6c166f",
    "deepnote_cell_type": "markdown",
    "deepnote_cell_height": 52.390625
   }
  },
  {
   "cell_type": "code",
   "metadata": {
    "id": "zxZeR4haTAQk",
    "colab_type": "code",
    "colab": {},
    "cell_id": "00017-eca6862f-1926-4d9e-92ca-04b168df9833",
    "owner_user_id": "10a2b549-7636-481a-bcf6-978642d5558f",
    "deepnote_to_be_reexecuted": false,
    "source_hash": "576e4d79",
    "execution_start": 1657749060995,
    "execution_millis": 797,
    "deepnote_cell_type": "code",
    "deepnote_cell_height": 1743,
    "deepnote_output_heights": [
     null,
     343,
     343
    ]
   },
   "source": "svm = SVC(gamma=1)\nsvm.fit(X_train, y_train)\ny_train_pred=svm.predict(X_train)\nprint(\"Training Accuracy is \", accuracy_score(y_train, y_train_pred)*100)\ny_val_pred=svm.predict(X_val)\nlabels = [0,1]\nprint(\"Validation Accuracy is \", accuracy_score(y_val,y_val_pred)*100)\ncm_high_gamma = metrics.confusion_matrix(y_val, y_val_pred,labels=labels)\nprint(cm_high_gamma)\n\nsvm = SVC(gamma=0.001)\nsvm.fit(X_train, y_train)\ny_train_pred=svm.predict(X_train)\nprint(\"Training Accuracy is \", accuracy_score(y_train, y_train_pred)*100)\ny_val_pred=svm.predict(X_val)\nprint(\"Validation Accuracy is \", accuracy_score(y_val,y_val_pred)*100)\ncm_low_gamma = metrics.confusion_matrix(y_val, y_val_pred,labels=labels)\nprint(cm_low_gamma)\n\ndef plot_cmatrix(cm,labels,title='Confusion Matrix'):\n  fig = plt.figure()\n  ax = fig.add_subplot(111)\n  cax = ax.matshow(cm,cmap='Reds')\n  plt.title('\\n'+title+'\\n', fontsize=20)\n  fig.colorbar(cax)\n  ax.set_xticklabels([''] + labels, fontsize=16)\n  ax.set_yticklabels([''] + labels, fontsize=16)\n  plt.xlabel('Predicted', fontsize=16)\n  plt.ylabel('True', fontsize=16)\n  plt.show()\n  \nplot_cmatrix(cm_high_gamma,labels)\nplot_cmatrix(cm_low_gamma,labels)",
   "execution_count": null,
   "outputs": [
    {
     "name": "stderr",
     "text": "/shared-libs/python3.9/py/lib/python3.9/site-packages/sklearn/utils/validation.py:1111: DataConversionWarning: A column-vector y was passed when a 1d array was expected. Please change the shape of y to (n_samples, ), for example using ravel().\n  y = column_or_1d(y, warn=True)\n/shared-libs/python3.9/py/lib/python3.9/site-packages/sklearn/utils/validation.py:1111: DataConversionWarning: A column-vector y was passed when a 1d array was expected. Please change the shape of y to (n_samples, ), for example using ravel().\n  y = column_or_1d(y, warn=True)\n<ipython-input-20-bae9ba449a2e>:26: UserWarning: FixedFormatter should only be used together with FixedLocator\n  ax.set_xticklabels([''] + labels, fontsize=16)\n<ipython-input-20-bae9ba449a2e>:27: UserWarning: FixedFormatter should only be used together with FixedLocator\n  ax.set_yticklabels([''] + labels, fontsize=16)\nTraining Accuracy is  100.0\nValidation Accuracy is  61.80555555555556\n[[89  0]\n [55  0]]\nTraining Accuracy is  83.33333333333334\nValidation Accuracy is  70.83333333333334\n[[78 11]\n [31 24]]\n",
     "output_type": "stream"
    },
    {
     "data": {
      "text/plain": "<Figure size 432x288 with 2 Axes>",
      "image/png": "[encoded data removed]"
     },
     "metadata": {
      "needs_background": "light",
      "image/png": {
       "width": 315,
       "height": 341
      }
     },
     "output_type": "display_data"
    },
    {
     "data": {
      "text/plain": "<Figure size 432x288 with 2 Axes>",
      "image/png": "[encoded data removed]"
     },
     "metadata": {
      "needs_background": "light",
      "image/png": {
       "width": 315,
       "height": 341
      }
     },
     "output_type": "display_data"
    }
   ]
  },
  {
   "cell_type": "markdown",
   "source": "<a style='text-decoration:none;line-height:16px;display:flex;color:#5B5B62;padding:10px;justify-content:end;' href='https://deepnote.com?utm_source=created-in-deepnote-cell&projectId=f6682294-4076-472f-b6a3-592ed81e5f9c' target=\"_blank\">\n<img alt='Created in deepnote.com' style='display:inline;max-height:16px;margin:0px;margin-right:7.5px;' src='data:image/svg+xml;base64,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' > </img>\nCreated in <span style='font-weight:600;margin-left:4px;'>Deepnote</span></a>",
   "metadata": {
    "tags": [],
    "created_in_deepnote_cell": true,
    "deepnote_cell_type": "markdown"
   }
  }
 ],
 "nbformat": 4,
 "nbformat_minor": 0,
 "metadata": {
  "colab": {
   "name": "SVM_Exercises",
   "provenance": [],
   "collapsed_sections": []
  },
  "kernelspec": {
   "display_name": "Python 3",
   "language": "python",
   "name": "python3"
  },
  "language_info": {
   "codemirror_mode": {
    "name": "ipython",
    "version": 3
   },
   "file_extension": ".py",
   "mimetype": "text/x-python",
   "name": "python",
   "nbconvert_exporter": "python",
   "pygments_lexer": "ipython3",
   "version": "3.7.3"
  },
  "deepnote_notebook_id": "4e8b1758-74d0-49e4-b831-b29a236d2816",
  "deepnote": {},
  "deepnote_execution_queue": []
 }
}